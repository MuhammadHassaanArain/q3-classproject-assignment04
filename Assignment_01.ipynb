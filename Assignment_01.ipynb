{
  "cells": [
    {
      "cell_type": "markdown",
      "metadata": {
        "id": "view-in-github",
        "colab_type": "text"
      },
      "source": [
        "<a href=\"https://colab.research.google.com/github/MuhammadHassaanArain/q3-classproject-assignment04/blob/main/Assignment_01.ipynb\" target=\"_parent\"><img src=\"https://colab.research.google.com/assets/colab-badge.svg\" alt=\"Open In Colab\"/></a>"
      ]
    },
    {
      "cell_type": "markdown",
      "metadata": {
        "id": "lB9ttYlcE_VO"
      },
      "source": [
        "# **01_Basics**"
      ]
    },
    {
      "cell_type": "markdown",
      "metadata": {
        "id": "2HseKT8kFNcf"
      },
      "source": [
        "#### 00_joke_bot\n"
      ]
    },
    {
      "cell_type": "markdown",
      "metadata": {
        "id": "nMJ6qsYbFd4U"
      },
      "source": [
        "Write a simple joke bot. The bot starts by asking the user what they want. However, your program will only respond to one response: Joke.\n",
        "\n",
        "If the user enters Joke then we will print out a single joke. Each time the joke is always the same:\n",
        "\n",
        "Here is a joke for you! Panaversity GPT - Sophia is heading out to the grocery store. A programmer tells her: get a liter of milk, and if they have eggs, get 12. Sophia returns with 13 liters of milk. The programmer asks why and Sophia replies: 'because they had eggs'\n",
        "\n",
        "If the user enters anything else we print out:\n",
        "\n",
        "Sorry I only tell jokes\n",
        "\n",
        "You should use the three constants:\n",
        "\n",
        "PROMPT JOKE SORRY\n",
        "\n",
        "which contain the strings for the prompt asked to the user, the joke to print out if the user enters Joke and the sorry message if the user enters anything else.\n",
        "\n",
        "Your program will need to use an if statement which checks if the user input is Joke:\n",
        "\n",
        "if user_input == \"Joke\":\n",
        "\n",
        "Recall that == is a comparison which tests if two values are equal to one another.\n",
        "\n",
        "Here is a full run of the program (user input is in blue):\n",
        "\n",
        "What do you want? Joke Here is a joke for you! Panaversity GPT - Sophia is heading out to the grocery store. A programmer tells her: get a liter of milk, and if they have eggs, get 12. Sophia returns with 13 liters of milk. The programmer asks why and Sophia replies: 'because they had eggs'"
      ]
    },
    {
      "cell_type": "code",
      "execution_count": null,
      "metadata": {
        "colab": {
          "base_uri": "https://localhost:8080/"
        },
        "id": "u2RvhclsFfnQ",
        "outputId": "e60a01c3-af69-4534-cc8e-3b30b919f3a3"
      },
      "outputs": [
        {
          "name": "stdout",
          "output_type": "stream",
          "text": [
            "What do you Want?: Quote\n",
            "Sorry I only tell jokes\n"
          ]
        }
      ],
      "source": [
        "PROMPT =\"What do you Want?: \"\n",
        "JOkE = \"Here is a joke for you! Panaversity GPT - Sophia is heading out to the grocery store. A programmer tells her: get a liter of milk, and if they have eggs, get 12. Sophia returns with 13 liters of milk. The programmer asks why and Sophia replies: 'because they had eggs'\"\n",
        "SORRY = \"Sorry I only tell jokes\"\n",
        "def main():\n",
        "  user_input = input(PROMPT)\n",
        "  if user_input.strip().lower() == \"joke\":\n",
        "    print(JOkE)\n",
        "  else:\n",
        "    print(SORRY)\n",
        "\n",
        "if __name__ == '__main__':\n",
        "  main()"
      ]
    },
    {
      "cell_type": "markdown",
      "metadata": {
        "id": "bgrWfPKPia3r"
      },
      "source": [
        "#### 01_double_it"
      ]
    },
    {
      "cell_type": "markdown",
      "metadata": {
        "id": "Xbl9ds-XihiV"
      },
      "source": [
        "Write a program that asks a user to enter a number. Your program will then double that number and print out the result. It will repeat that process until the value is 100 or greater.\n",
        "\n",
        "For example if the user enters the number 2 you would then print:\n",
        "\n",
        "4 8 16 32 64 128\n",
        "\n",
        "Note that:\n",
        "\n",
        "2 doubled is 4\n",
        "\n",
        "4 doubled is 8\n",
        "\n",
        "8 doubled is 16\n",
        "\n",
        "and so on.\n",
        "\n",
        "We stop at 128 because that value is greater than 100.\n",
        "\n",
        "Maintain the current number in a variable named curr_value. When you double the number, you should be updating curr_value. Recall that you can double the value of curr_value using a line like:\n",
        "\n",
        "curr_value = curr_value * 2\n",
        "\n",
        "This program should have a while loop and the while loop condition should test if curr_value is less than 100. Thus, your program will have the line:\n",
        "\n",
        "while curr_value < 100:"
      ]
    },
    {
      "cell_type": "code",
      "execution_count": null,
      "metadata": {
        "colab": {
          "base_uri": "https://localhost:8080/"
        },
        "id": "rs-WS2OLinCp",
        "outputId": "e1dbf464-fa2e-4b6c-cb10-b6567f115bbd"
      },
      "outputs": [
        {
          "name": "stdout",
          "output_type": "stream",
          "text": [
            "Enter a number: 1\n",
            "2\n",
            "4\n",
            "8\n",
            "16\n",
            "32\n",
            "64\n",
            "128\n",
            "128\n"
          ]
        }
      ],
      "source": [
        "def main():\n",
        "  user_input = int(input(\"Enter a number: \"))\n",
        "  while user_input < 100:\n",
        "    user_input *= 2\n",
        "    print(user_input)\n",
        "  print(user_input)\n",
        "\n",
        "if __name__ == '__main__':\n",
        "  main()"
      ]
    },
    {
      "cell_type": "markdown",
      "metadata": {
        "id": "uk08BSTxjVly"
      },
      "source": [
        "#### 02_liftoff"
      ]
    },
    {
      "cell_type": "markdown",
      "metadata": {
        "id": "U2Y06NlsjZpJ"
      },
      "source": [
        "Write a program that prints out the calls for a spaceship that is about to launch. Countdown from 10 to 1 and then output Liftoff!\n",
        "\n",
        "Here's a sample run of the program:\n",
        "\n",
        "10 9 8 7 6 5 4 3 2 1 Liftoff!\n",
        "\n",
        "There are many ways to solve this problem. One approach is to use a for loop, and to use the for loop variable i. Recall that i will keep track of how many times the for loop has completed executing its body. As an example this code:\n",
        "\n",
        "for i in range(10): print(i)\n",
        "\n",
        "Will print out the values 0, 1, 2, 3, 4, 5, 6, 7, 8, 9. The values printed in liftoff are 10 minus the number of times the for loop has completed."
      ]
    },
    {
      "cell_type": "code",
      "execution_count": null,
      "metadata": {
        "colab": {
          "base_uri": "https://localhost:8080/"
        },
        "id": "7IW5ntDrjb_f",
        "outputId": "d48b2bd6-569d-46ee-c9c1-ca94afd6d34e"
      },
      "outputs": [
        {
          "name": "stdout",
          "output_type": "stream",
          "text": [
            "10 9 8 7 6 5 4 3 2 1 liftoff! 🚀\n"
          ]
        }
      ],
      "source": [
        "def main():\n",
        "  for i in range(10,0,-1):\n",
        "    print(i, end=\" \")\n",
        "  print(\"liftoff! 🚀\")\n",
        "\n",
        "if __name__ == '__main__':\n",
        "  main()"
      ]
    },
    {
      "cell_type": "markdown",
      "metadata": {
        "id": "TlCBRo58kI08"
      },
      "source": [
        "#### 03_guess_my_number"
      ]
    },
    {
      "cell_type": "markdown",
      "metadata": {
        "id": "pc25F_ltkMrj"
      },
      "source": [
        "Guess My Number\n",
        "\n",
        "I am thinking of a number between 0 and 99... Enter a guess: 50 Your guess is too high\n",
        "\n",
        "Enter a new number: 25 Your guess is too low\n",
        "\n",
        "Enter a new number: 40 Your guess is too low\n",
        "\n",
        "Enter a new number: 45 Your guess is too low\n",
        "\n",
        "Enter a new number: 48 Congrats! The number was: 48\n",
        "\n"
      ]
    },
    {
      "cell_type": "code",
      "execution_count": null,
      "metadata": {
        "colab": {
          "base_uri": "https://localhost:8080/"
        },
        "id": "jCYheX9LkN1L",
        "outputId": "42910b1d-252b-4d2e-9c1f-104c85b74a7c"
      },
      "outputs": [
        {
          "name": "stdout",
          "output_type": "stream",
          "text": [
            "Guess My Number! \n",
            "I am thinking of a number between 0 and 99...\n",
            "Enter a guess: 50\n",
            "Your guess is too low\n",
            "Enter a new number: 70\n",
            "Your guess is too low\n",
            "Enter a new number: 85\n",
            "Your guess is too low\n",
            "Enter a new number: 90\n",
            "Your guess is too high\n",
            "Enter a new number: 87\n",
            "Congrats! The number was: 87\n"
          ]
        }
      ],
      "source": [
        "import random\n",
        "def main():\n",
        "  print(\"Guess My Number! \")\n",
        "  print(\"I am thinking of a number between 0 and 99...\")\n",
        "  secret_num = random.randint(0,99)\n",
        "  user_guess = int(input(\"Enter a guess: \"))\n",
        "  while user_guess != secret_num:\n",
        "    if user_guess > secret_num:\n",
        "      print(\"Your guess is too high\")\n",
        "    elif user_guess < secret_num:\n",
        "      print(\"Your guess is too low\")\n",
        "    user_guess = int(input(\"Enter a new number: \"))\n",
        "  print(f\"Congrats! The number was: {secret_num}\")\n",
        "\n",
        "\n",
        "if __name__ == '__main__':\n",
        "  main()"
      ]
    },
    {
      "cell_type": "markdown",
      "metadata": {
        "id": "NuZkfT-amYxu"
      },
      "source": [
        "#### 04_random_numbers"
      ]
    },
    {
      "cell_type": "markdown",
      "metadata": {
        "id": "x0NpSngxmcNE"
      },
      "source": [
        "Print 10 random numbers in the range 1 to 100.\n",
        "\n",
        "Here is an example run:\n",
        "\n",
        "45 79 61 47 52 10 16 83 19 12\n",
        "\n",
        "Each time you run your program you should get different numbers\n",
        "\n",
        "81 76 70 1 27 63 96 100 32 92\n",
        "\n",
        "Recall that the python random library has a function randint which returns an integer in the range set by the parameters (inclusive). For example this call would produce a random integer between 1 and 6, which could include 1 and could include 6:\n",
        "\n",
        "value = random.randint(1, 6)"
      ]
    },
    {
      "cell_type": "code",
      "execution_count": null,
      "metadata": {
        "colab": {
          "base_uri": "https://localhost:8080/"
        },
        "id": "f1qPV685mdHc",
        "outputId": "7bcefcf4-1c0e-49c0-a0af-67f46af9ee18"
      },
      "outputs": [
        {
          "output_type": "stream",
          "name": "stdout",
          "text": [
            "18 98 98 89 99 11 87 73 67 13 \n",
            "[64, 3, 68, 98, 21, 47, 61, 35, 86, 1]\n"
          ]
        }
      ],
      "source": [
        "import random\n",
        "def main():\n",
        "  # Approach 1\n",
        "  for num in range(0,10):\n",
        "    print(random.randint(1,100), end=\" \")\n",
        "  print()\n",
        "   # Approach 2\n",
        "  print([random.randint(1,100) for _ in range(0,10)])\n",
        "\n",
        "if __name__ == '__main__':\n",
        "  main()"
      ]
    },
    {
      "cell_type": "markdown",
      "source": [
        "# **02_Intermediate**\n"
      ],
      "metadata": {
        "id": "TWw7PGYAw4ts"
      }
    },
    {
      "cell_type": "markdown",
      "source": [
        "## ***Intro to Python***"
      ],
      "metadata": {
        "id": "PeWsqb6Cw6A0"
      }
    },
    {
      "cell_type": "markdown",
      "source": [
        "###  Planetary Weight Calculator"
      ],
      "metadata": {
        "id": "yUdEcXsDw9AR"
      }
    },
    {
      "cell_type": "code",
      "source": [
        "def main():\n",
        "  planets_gravity = {\n",
        "      \"Mercury\":3.7,\n",
        "      \"Venus\":8.87,\n",
        "      \"Earth\":9.81,\n",
        "      \"Mars\":3.721,\n",
        "      \"Jupiter\":24.79,\n",
        "      \"Saturn\":10.44,\n",
        "      \"Uranus\":8.69,\n",
        "      \"Neptune\":11.15\n",
        "  }\n",
        "  try:\n",
        "    uesr_input_weight = int(input(\"Enter a weight in Earth: \"))\n",
        "    planet = str(input(\"Enter a Planet: \")).strip().title()\n",
        "    if planet not in planets_gravity:\n",
        "      print(\"Invalid planet name. Please enter a valid planet.\")\n",
        "      return\n",
        "    weight_on_earth = uesr_input_weight\n",
        "    weight_on_planet = weight_on_earth * planets_gravity[planet]/planets_gravity[\"Earth\"]\n",
        "    print(f\"The equivalent on {planet}: {weight_on_planet:.2f}\")\n",
        "\n",
        "  except ValueError:\n",
        "    print(\"Invalid Input! \")\n",
        "if __name__ == '__main__':\n",
        "  main()"
      ],
      "metadata": {
        "id": "fBOZSc6KxD8G",
        "outputId": "a8e2e8a5-43ab-4526-b214-ca8df47509a2",
        "colab": {
          "base_uri": "https://localhost:8080/"
        }
      },
      "execution_count": 33,
      "outputs": [
        {
          "output_type": "stream",
          "name": "stdout",
          "text": [
            "Enter a weight in Earth: 120\n",
            "Enter a Planet: uranus\n",
            "The equivalent on Uranus: 106.30\n"
          ]
        }
      ]
    },
    {
      "cell_type": "markdown",
      "source": [
        "## ***Lists and Dicts***"
      ],
      "metadata": {
        "id": "gLoNPHMF-Iql"
      }
    },
    {
      "cell_type": "markdown",
      "source": [
        "### List Practice"
      ],
      "metadata": {
        "id": "eRu1fKU7-Qs5"
      }
    },
    {
      "cell_type": "code",
      "source": [
        "fruit_list = [\"apple\",\"banana\",\"orange\",\"grape\",\"pineapple\"]\n",
        "def main():\n",
        "  print(\"Length of List: \",len(fruit_list))\n",
        "  print(\"List: \", fruit_list)\n",
        "  fruit_list.append(\"mango\")\n",
        "  print()\n",
        "  print(\"Updated Length of List: \",len(fruit_list))\n",
        "  print(\"Updated List: \", fruit_list)\n",
        "\n",
        "if __name__ == '__main__':\n",
        "  main()"
      ],
      "metadata": {
        "colab": {
          "base_uri": "https://localhost:8080/"
        },
        "id": "FQcQi4DP-aFU",
        "outputId": "71c9c892-ac94-4bc1-c235-3448c48d1618"
      },
      "execution_count": 43,
      "outputs": [
        {
          "output_type": "stream",
          "name": "stdout",
          "text": [
            "Length of List:  5\n",
            "List:  ['apple', 'banana', 'orange', 'grape', 'pineapple']\n",
            "\n",
            "Updated Length of List:  6\n",
            "Updated List:  ['apple', 'banana', 'orange', 'grape', 'pineapple', 'mango']\n"
          ]
        }
      ]
    },
    {
      "cell_type": "markdown",
      "source": [
        "### Index Game"
      ],
      "metadata": {
        "id": "RVHu0Nyp-iEB"
      }
    },
    {
      "cell_type": "code",
      "source": [
        "my_list = [\"Shani\",\"Hassaan\",\"Arain\",\"Aasia\",\"Laghari\"]\n",
        "\n",
        "def Accessing_Element(List):\n",
        "  try:\n",
        "    user_index = int(input(\"Enter Index to access: \"))\n",
        "    if -len(List) <= user_index < len(List):\n",
        "     return f\"Element at index {user_index}: {List[user_index]}\"\n",
        "    else:\n",
        "      return \"Out of Range ❌\"\n",
        "  except ValueError:\n",
        "    return \"❌ Error: Please enter a valid integer index.\"\n",
        "\n",
        "def Modifying_elem(my_list):\n",
        "  try:\n",
        "    index = int(input(\"Enter Index: \"))\n",
        "    if -len(my_list) <= index < len(my_list):\n",
        "      new_value = input(\"Enter a new Value! \")\n",
        "      my_list[index] = new_value\n",
        "      return f\"Updated List: {my_list}\"\n",
        "    else:\n",
        "      return \"Out of Range ❌\"\n",
        "  except ValueError:\n",
        "    return \"❌ Error: Please enter a valid integer index.\"\n",
        "\n",
        "def Slicing_list(my_list):\n",
        "  try:\n",
        "    starting_index =int(input(\"Starting of the Index: \"))\n",
        "    ending_index = int(input(\"Ending of the Index: \"))\n",
        "    if -len(my_list) <= starting_index < len(my_list) and -len(my_list) <= ending_index <= len(my_list):\n",
        "      sliced_list = my_list[starting_index:ending_index]\n",
        "      return f\"Sliced List: {sliced_list}\"\n",
        "    else:\n",
        "      return \"Out of Range ❌\"\n",
        "  except ValueError:\n",
        "    return \"❌ Error: Please enter a valid integer indices.\"\n",
        "\n",
        "\n",
        "def main(my_list):\n",
        "\n",
        "  while True:\n",
        "    print()\n",
        "    print(\"\\n=== Index Game === \")\n",
        "    print(\"1. Access an element\")\n",
        "    print(\"2. Modify an element\")\n",
        "    print(\"3. Slice the list\")\n",
        "    print(\"4. Exit\")\n",
        "    user_choice = input(\"Enter Your Choice (1-4): \")\n",
        "\n",
        "    if user_choice == \"1\":\n",
        "      print(Accessing_Element(my_list))\n",
        "    elif user_choice == \"2\":\n",
        "      print( Modifying_elem(my_list))\n",
        "    elif user_choice == \"3\":\n",
        "      print(Slicing_list(my_list))\n",
        "    elif user_choice == \"4\":\n",
        "      print('Exiting the Program...')\n",
        "      break\n",
        "    else:\n",
        "      print(\"❌ Invalid Choice. Please try again.\")\n",
        "\n",
        "\n",
        "if __name__ == '__main__':\n",
        "  main(my_list)"
      ],
      "metadata": {
        "colab": {
          "base_uri": "https://localhost:8080/"
        },
        "id": "OgNAbmBv-mOo",
        "outputId": "5ec695aa-a9af-4aac-9d83-352a0f8f3fb6"
      },
      "execution_count": 80,
      "outputs": [
        {
          "output_type": "stream",
          "name": "stdout",
          "text": [
            "\n",
            "\n",
            "=== Index Game === \n",
            "1. Access an element\n",
            "2. Modify an element\n",
            "3. Slice the list\n",
            "4. Exit\n",
            "Enter Your Choice (1-4): d\n",
            "❌ Invalid Choice. Please try again.\n",
            "\n",
            "\n",
            "=== Index Game === \n",
            "1. Access an element\n",
            "2. Modify an element\n",
            "3. Slice the list\n",
            "4. Exit\n",
            "Enter Your Choice (1-4): 1\n",
            "Enter Index to access: 6\n",
            "Out of Range ❌\n",
            "\n",
            "\n",
            "=== Index Game === \n",
            "1. Access an element\n",
            "2. Modify an element\n",
            "3. Slice the list\n",
            "4. Exit\n",
            "Enter Your Choice (1-4): 1\n",
            "Enter Index to access: 3\n",
            "Element at index 3: Aasia\n",
            "\n",
            "\n",
            "=== Index Game === \n",
            "1. Access an element\n",
            "2. Modify an element\n",
            "3. Slice the list\n",
            "4. Exit\n",
            "Enter Your Choice (1-4): 4\n",
            "Exiting the Program...\n"
          ]
        }
      ]
    },
    {
      "cell_type": "markdown",
      "source": [
        "## ***Control Flow for Console***"
      ],
      "metadata": {
        "id": "NDMOhWmrZAfF"
      }
    },
    {
      "cell_type": "markdown",
      "source": [
        "### Problem: High Low"
      ],
      "metadata": {
        "id": "t5dE1mBWZHzZ"
      }
    },
    {
      "cell_type": "code",
      "source": [
        "def main():\n",
        "  pass\n",
        "\n",
        "if __name__ == '__main__':\n",
        "  main()"
      ],
      "metadata": {
        "id": "_HUNAiF_ZV36"
      },
      "execution_count": 81,
      "outputs": []
    }
  ],
  "metadata": {
    "colab": {
      "provenance": [],
      "collapsed_sections": [
        "lB9ttYlcE_VO",
        "PeWsqb6Cw6A0",
        "yUdEcXsDw9AR",
        "eRu1fKU7-Qs5"
      ],
      "gpuType": "T4",
      "authorship_tag": "ABX9TyPs/opiTDIlR42Y4uk4KAlv",
      "include_colab_link": true
    },
    "kernelspec": {
      "display_name": "Python 3",
      "name": "python3"
    },
    "language_info": {
      "name": "python"
    },
    "accelerator": "GPU"
  },
  "nbformat": 4,
  "nbformat_minor": 0
}