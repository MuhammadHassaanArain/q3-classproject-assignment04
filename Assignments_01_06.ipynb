{
  "nbformat": 4,
  "nbformat_minor": 0,
  "metadata": {
    "colab": {
      "provenance": [],
      "authorship_tag": "ABX9TyPiKmX6ziuCW01cv+UoxuMF",
      "include_colab_link": true
    },
    "kernelspec": {
      "name": "python3",
      "display_name": "Python 3"
    },
    "language_info": {
      "name": "python"
    }
  },
  "cells": [
    {
      "cell_type": "markdown",
      "metadata": {
        "id": "view-in-github",
        "colab_type": "text"
      },
      "source": [
        "<a href=\"https://colab.research.google.com/github/MuhammadHassaanArain/q3-classproject-assignment04/blob/main/Assignments_01_06.ipynb\" target=\"_parent\"><img src=\"https://colab.research.google.com/assets/colab-badge.svg\" alt=\"Open In Colab\"/></a>"
      ]
    },
    {
      "cell_type": "markdown",
      "source": [
        "# **Compulsory Project to be Submitted by the Students**"
      ],
      "metadata": {
        "id": "6iwLSAKKqBa7"
      }
    },
    {
      "cell_type": "markdown",
      "source": [
        "### **Project 1: Mad libs Python Project**"
      ],
      "metadata": {
        "id": "aqtmWsp6pc-J"
      }
    },
    {
      "cell_type": "code",
      "source": [
        "def main():\n",
        "  try:\n",
        "    print(\"Welcome to Mad Libs: A Day at the Zoo! 🦁🐵\")\n",
        "    adjective = input(\"Enter an Adjective: \")\n",
        "    animal = input(\"Enter an Aminal Name: \")\n",
        "    verb = input(\"Enter a verb: \")\n",
        "    story = f\"The {adjective} {animal} loves to {verb}!\"\n",
        "    print(f\"Here's your mad libs story: {story} \\n\")\n",
        "  except ValueError:\n",
        "    print(\"❌ Invalid Input!\")\n",
        "if __name__ == '__main__':\n",
        "  main()"
      ],
      "metadata": {
        "id": "rJovJD03psEE",
        "colab": {
          "base_uri": "https://localhost:8080/"
        },
        "outputId": "a62c2763-ba80-4900-ac12-09c94a5fe3a2"
      },
      "execution_count": null,
      "outputs": [
        {
          "output_type": "stream",
          "name": "stdout",
          "text": [
            "Welcome to Mad Libs: A Day at the Zoo! 🦁🐵\n",
            "Enter an Adjective: funny\n",
            "Enter an Aminal Name: rabbit\n",
            "Enter a verb: coding\n",
            "Here's your mad libs story: The funny rabbit loves to coding! \n",
            "\n"
          ]
        }
      ]
    },
    {
      "cell_type": "markdown",
      "source": [
        "### **Project 2: Guess the Number Game Python Project (computer)**"
      ],
      "metadata": {
        "id": "ezO1R2ywpzwy"
      }
    },
    {
      "cell_type": "code",
      "source": [
        "import random\n",
        "def main():\n",
        "  print(\"Guess My Number! \")\n",
        "  print(\"I am thinking of a number between 0 and 99...\")\n",
        "  secret_num = random.randint(0,99)\n",
        "  user_guess = int(input(\"Enter a guess: \"))\n",
        "  while user_guess != secret_num:\n",
        "    if user_guess > secret_num:\n",
        "      print(\"Your guess is too high\")\n",
        "    elif user_guess < secret_num:\n",
        "      print(\"Your guess is too low\")\n",
        "    user_guess = int(input(\"Enter a new number: \"))\n",
        "  print(f\"Congrats! The number was: {secret_num}\")\n",
        "\n",
        "\n",
        "if __name__ == '__main__':\n",
        "  main()"
      ],
      "metadata": {
        "id": "Knffkylpp4vi",
        "colab": {
          "base_uri": "https://localhost:8080/"
        },
        "outputId": "f95a73e1-8c8b-4067-9f47-b5c7ea93210c"
      },
      "execution_count": 1,
      "outputs": [
        {
          "output_type": "stream",
          "name": "stdout",
          "text": [
            "Guess My Number! \n",
            "I am thinking of a number between 0 and 99...\n",
            "Enter a guess: 40\n",
            "Your guess is too low\n",
            "Enter a new number: 70\n",
            "Your guess is too low\n",
            "Enter a new number: 85\n",
            "Your guess is too high\n",
            "Enter a new number: 77\n",
            "Your guess is too low\n",
            "Enter a new number: 80\n",
            "Your guess is too high\n",
            "Enter a new number: 79\n",
            "Your guess is too high\n",
            "Enter a new number: 78\n",
            "Congrats! The number was: 78\n"
          ]
        }
      ]
    },
    {
      "cell_type": "markdown",
      "source": [
        "### **Project 3: Guess the Number Game Python Project (user)**"
      ],
      "metadata": {
        "id": "AzxN-BgRFHUX"
      }
    },
    {
      "cell_type": "code",
      "source": [
        "import random\n",
        "def main(num):\n",
        "    low = 1\n",
        "    high = num\n",
        "    feedback = \"\"\n",
        "    while feedback != \"c\":\n",
        "      if low != high:\n",
        "        guess_num = random.randint(low,high)\n",
        "      else:\n",
        "        guess_num = low\n",
        "      feedback = input(f\"Is {guess_num} too high (h),too low (l) or correct (c)??\").lower().strip()\n",
        "      if feedback not in [\"c\",\"l\",\"h\"]:\n",
        "        print(\"❌Invalid Input Please Enter (c,l,h):\")\n",
        "        continue\n",
        "      if feedback == \"h\":\n",
        "        high = guess_num -1\n",
        "      elif feedback == \"l\":\n",
        "        low = guess_num +1\n",
        "    print(f\"The Computer guess the number 🎉 : {guess_num}\")\n",
        "\n",
        "\n",
        "\n",
        "if __name__ == '__main__':\n",
        "  main(100)"
      ],
      "metadata": {
        "id": "B62_unKgFPOm",
        "colab": {
          "base_uri": "https://localhost:8080/"
        },
        "outputId": "3d6f28ea-99de-492e-e1e0-34cb06860552"
      },
      "execution_count": 17,
      "outputs": [
        {
          "output_type": "stream",
          "name": "stdout",
          "text": [
            "Is 73 too high (h),too low (l) or correct (c)??h \n",
            "Is 64 too high (h),too low (l) or correct (c)??H\n",
            "Is 47 too high (h),too low (l) or correct (c)??L\n",
            "Is 60 too high (h),too low (l) or correct (c)??h\n",
            "Is 51 too high (h),too low (l) or correct (c)??l\n",
            "Is 52 too high (h),too low (l) or correct (c)??l\n",
            "Is 54 too high (h),too low (l) or correct (c)??l\n",
            "Is 57 too high (h),too low (l) or correct (c)??h\n",
            "Is 55 too high (h),too low (l) or correct (c)??l\n",
            "Is 56 too high (h),too low (l) or correct (c)??c\n",
            "The Computer guess the number 🎉 : 56\n"
          ]
        }
      ]
    },
    {
      "cell_type": "markdown",
      "source": [
        "### **project 4: Rock, paper, scissors Python Project**"
      ],
      "metadata": {
        "id": "N9EL-NyPFhu-"
      }
    },
    {
      "cell_type": "code",
      "source": [
        "import random\n",
        "def main():\n",
        "  choices = [\"rock\",\"paper\",\"scissor\"]\n",
        "  comp_selected = random.choice(choices)\n",
        "  print(\"Select one of the following.\")\n",
        "  print(\"1 Rock\")\n",
        "  print(\"2 Paper\")\n",
        "  print(\"3 Scissor\")\n",
        "  try:\n",
        "    user_selected = int(input(\"Type Your choice here: \").strip())\n",
        "    if user_selected not in [1, 2, 3]:\n",
        "      print(\"❌ Please select 1, 2, or 3.\")\n",
        "      return\n",
        "  except ValueError:\n",
        "      print(\"❌ Invalid Input. Please enter a number (1, 2, or 3).\")\n",
        "      return\n",
        "\n",
        "  user_choice = choices[user_selected -1]\n",
        "  print(f\"🧑‍💻 You selected: {user_choice}\")\n",
        "  print(f\"🖥️ Computer selected: {comp_selected}\")\n",
        "  if user_choice == comp_selected:\n",
        "    print(\"It's a tie! 🤝\")\n",
        "  else:\n",
        "    winning_cases = {\n",
        "            \"rock\": \"scissor\",\n",
        "            \"paper\": \"rock\",\n",
        "            \"scissor\": \"paper\"\n",
        "        }\n",
        "    if winning_cases[user_choice] == comp_selected:\n",
        "      print(\"You win 🎉\")\n",
        "    else:\n",
        "      print(\"You lose 😢\")\n",
        "\n",
        "\n",
        "if __name__ == '__main__':\n",
        "  main()"
      ],
      "metadata": {
        "colab": {
          "base_uri": "https://localhost:8080/"
        },
        "id": "PJuacBG-FkjG",
        "outputId": "19214397-6c8e-4e28-dd4c-e4e59ad5d861"
      },
      "execution_count": null,
      "outputs": [
        {
          "output_type": "stream",
          "name": "stdout",
          "text": [
            "Select one of the following.\n",
            "1 Rock\n",
            "2 Paper\n",
            "3 Scissor\n",
            "Type Your choice here: 2\n",
            "🧑‍💻 You selected: paper\n",
            "🖥️ Computer selected: rock\n",
            "You win 🎉\n"
          ]
        }
      ]
    },
    {
      "cell_type": "markdown",
      "source": [
        "### **Project 5: Hangman Python Project**"
      ],
      "metadata": {
        "id": "FXYOwyAwQbWq"
      }
    },
    {
      "cell_type": "code",
      "source": [
        "import random\n",
        "import string\n",
        "\n",
        "wordss = [\"hello\", \"world\", \"Hello-world\", \"hello world\", \"python\", \"Javascript\", \"Typescript\", \"nextjs\", \"developer\"]\n",
        "\n",
        "def get_valid_word(words):\n",
        "    word = random.choice(words)\n",
        "    while '-' in word or ' ' in word:\n",
        "        word = random.choice(words)\n",
        "    return word.upper()\n",
        "\n",
        "def hangman():\n",
        "    word = get_valid_word(wordss)\n",
        "    word_letters = set(word)\n",
        "    alphabet = set(string.ascii_uppercase)\n",
        "    used_letters = set()\n",
        "\n",
        "    lives = len(word)\n",
        "\n",
        "    while len(word_letters) > 0 and lives > 0:\n",
        "        print(f\"\\nYou have {lives} lives left and You have used these letters:\", \" \".join(used_letters))\n",
        "        word_list = [letter if letter in used_letters else \"_\" for letter in word]\n",
        "        print(\"Current word:\", \" \".join(word_list))\n",
        "\n",
        "        user_letter = input(\"Guess a letter: \").upper()\n",
        "\n",
        "        if user_letter in alphabet - used_letters:\n",
        "            used_letters.add(user_letter)\n",
        "            if user_letter in word_letters:\n",
        "                word_letters.remove(user_letter)\n",
        "                print(\"✅ Correct!\")\n",
        "            else:\n",
        "                lives -= 1\n",
        "                print(\"❌ Wrong guess!\")\n",
        "\n",
        "        elif user_letter in used_letters:\n",
        "            print(\"You have already used that character!\")\n",
        "        else:\n",
        "            print(\"Invalid Character. Please try again.\")\n",
        "    if lives == 0:\n",
        "      print(\"You died, sorry! The word was \",word)\n",
        "    else:\n",
        "      print(f\"\\n🎉 You won! The word was '{word}'\")\n",
        "\n",
        "hangman()\n",
        "\n"
      ],
      "metadata": {
        "colab": {
          "base_uri": "https://localhost:8080/"
        },
        "id": "f5ByiszIQfR1",
        "outputId": "57f13e72-6dac-4472-aa80-4a1106a763eb"
      },
      "execution_count": null,
      "outputs": [
        {
          "output_type": "stream",
          "name": "stdout",
          "text": [
            "\n",
            "You have 6 lives left and You have used these letters: \n",
            "Current word: _ _ _ _ _ _\n",
            "Guess a letter: y\n",
            "✅ Correct!\n",
            "\n",
            "You have 6 lives left and You have used these letters: Y\n",
            "Current word: _ Y _ _ _ _\n",
            "Guess a letter: m\n",
            "❌ Wrong guess!\n",
            "\n",
            "You have 5 lives left and You have used these letters: Y M\n",
            "Current word: _ Y _ _ _ _\n",
            "Guess a letter: p\n",
            "✅ Correct!\n",
            "\n",
            "You have 5 lives left and You have used these letters: P Y M\n",
            "Current word: P Y _ _ _ _\n",
            "Guess a letter: t\n",
            "✅ Correct!\n",
            "\n",
            "You have 5 lives left and You have used these letters: T P Y M\n",
            "Current word: P Y T _ _ _\n",
            "Guess a letter: o\n",
            "✅ Correct!\n",
            "\n",
            "You have 5 lives left and You have used these letters: Y P M T O\n",
            "Current word: P Y T _ O _\n",
            "Guess a letter: n\n",
            "✅ Correct!\n",
            "\n",
            "You have 5 lives left and You have used these letters: Y P M N T O\n",
            "Current word: P Y T _ O N\n",
            "Guess a letter: e\n",
            "❌ Wrong guess!\n",
            "\n",
            "You have 4 lives left and You have used these letters: Y P M N E T O\n",
            "Current word: P Y T _ O N\n",
            "Guess a letter: h\n",
            "✅ Correct!\n",
            "\n",
            "🎉 You won! The word was 'PYTHON'\n"
          ]
        }
      ]
    },
    {
      "cell_type": "markdown",
      "source": [
        "### **Project 6: Countdown Timer Python Project**"
      ],
      "metadata": {
        "id": "uG1bo6qJUgdL"
      }
    },
    {
      "cell_type": "code",
      "source": [
        "import time\n",
        "import sys\n",
        "def countdown(t):\n",
        "  while t:\n",
        "    mins,secs = divmod(t,60)\n",
        "    # timer = '{:02d}:{:02d}'.format(mins,secs)\n",
        "    # timer = f\"{mins:02d}:{secs:02d}\"\n",
        "    # print(timer, end=\"\\r\")\n",
        "\n",
        "    sys.stdout.write(f\"\\r{mins:02d}:{secs:02d}\")\n",
        "    sys.stdout.flush()\n",
        "    time.sleep(1)\n",
        "    t -= 1\n",
        "  print(\"\\n Go for a run now!\")\n",
        "\n",
        "user_input = input(\"Enter the time in second: \")\n",
        "countdown(int(user_input))\n"
      ],
      "metadata": {
        "colab": {
          "base_uri": "https://localhost:8080/"
        },
        "id": "bX78XIp4UlQd",
        "outputId": "124a3939-689b-404d-87e9-cc5076f48ca3"
      },
      "execution_count": null,
      "outputs": [
        {
          "output_type": "stream",
          "name": "stdout",
          "text": [
            "Enter the time in second: 3\n",
            "00:01\n",
            " Go for a run now!\n"
          ]
        }
      ]
    }
  ]
}