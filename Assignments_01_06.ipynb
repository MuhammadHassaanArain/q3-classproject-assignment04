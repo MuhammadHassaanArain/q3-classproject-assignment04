{
  "nbformat": 4,
  "nbformat_minor": 0,
  "metadata": {
    "colab": {
      "provenance": [],
      "authorship_tag": "ABX9TyPymiaIxaQsw509FE+75n69",
      "include_colab_link": true
    },
    "kernelspec": {
      "name": "python3",
      "display_name": "Python 3"
    },
    "language_info": {
      "name": "python"
    }
  },
  "cells": [
    {
      "cell_type": "markdown",
      "metadata": {
        "id": "view-in-github",
        "colab_type": "text"
      },
      "source": [
        "<a href=\"https://colab.research.google.com/github/MuhammadHassaanArain/q3-classproject-assignment04/blob/main/Assignments_01_06.ipynb\" target=\"_parent\"><img src=\"https://colab.research.google.com/assets/colab-badge.svg\" alt=\"Open In Colab\"/></a>"
      ]
    },
    {
      "cell_type": "markdown",
      "source": [
        "# **Compulsory Project to be Submitted by the Students**"
      ],
      "metadata": {
        "id": "6iwLSAKKqBa7"
      }
    },
    {
      "cell_type": "markdown",
      "source": [
        "### **Project 1: Mad libs Python Project**"
      ],
      "metadata": {
        "id": "aqtmWsp6pc-J"
      }
    },
    {
      "cell_type": "code",
      "source": [
        "def main():\n",
        "  try:\n",
        "    print(\"Welcome to Mad Libs: A Day at the Zoo! 🦁🐵\")\n",
        "    adjective = input(\"Enter an Adjective: \")\n",
        "    animal = input(\"Enter an Aminal Name: \")\n",
        "    verb = input(\"Enter a verb: \")\n",
        "    story = f\"The {adjective} {animal} loves to {verb}!\"\n",
        "    print(f\"Here's your mad libs story: {story} \\n\")\n",
        "  except ValueError:\n",
        "    print(\"❌ Invalid Input!\")\n",
        "if __name__ == '__main__':\n",
        "  main()"
      ],
      "metadata": {
        "id": "rJovJD03psEE",
        "colab": {
          "base_uri": "https://localhost:8080/"
        },
        "outputId": "a62c2763-ba80-4900-ac12-09c94a5fe3a2"
      },
      "execution_count": null,
      "outputs": [
        {
          "output_type": "stream",
          "name": "stdout",
          "text": [
            "Welcome to Mad Libs: A Day at the Zoo! 🦁🐵\n",
            "Enter an Adjective: funny\n",
            "Enter an Aminal Name: rabbit\n",
            "Enter a verb: coding\n",
            "Here's your mad libs story: The funny rabbit loves to coding! \n",
            "\n"
          ]
        }
      ]
    },
    {
      "cell_type": "markdown",
      "source": [
        "### **Project 2: Guess the Number Game Python Project (computer)**"
      ],
      "metadata": {
        "id": "ezO1R2ywpzwy"
      }
    },
    {
      "cell_type": "code",
      "source": [
        "def main():\n",
        "  pass\n",
        "\n",
        "if __name__ == '__main__':\n",
        "  main()"
      ],
      "metadata": {
        "id": "Knffkylpp4vi"
      },
      "execution_count": 2,
      "outputs": []
    },
    {
      "cell_type": "markdown",
      "source": [
        "### **Project 3: Guess the Number Game Python Project (user)**"
      ],
      "metadata": {
        "id": "AzxN-BgRFHUX"
      }
    },
    {
      "cell_type": "code",
      "source": [
        "def main():\n",
        "  pass\n",
        "\n",
        "if __name__ == '__main__':\n",
        "  main()"
      ],
      "metadata": {
        "id": "B62_unKgFPOm"
      },
      "execution_count": 1,
      "outputs": []
    },
    {
      "cell_type": "markdown",
      "source": [
        "### **project 4: Rock, paper, scissors Python Project**"
      ],
      "metadata": {
        "id": "N9EL-NyPFhu-"
      }
    },
    {
      "cell_type": "code",
      "source": [
        "import random\n",
        "def main():\n",
        "  choices = [\"rock\",\"paper\",\"scissor\"]\n",
        "  comp_selected = random.choice(choices)\n",
        "  print(\"Select one of the following.\")\n",
        "  print(\"1 Rock\")\n",
        "  print(\"2 Paper\")\n",
        "  print(\"3 Scissor\")\n",
        "  try:\n",
        "    user_selected = int(input(\"Type Your choice here: \").strip())\n",
        "    if user_selected not in [1, 2, 3]:\n",
        "      print(\"❌ Please select 1, 2, or 3.\")\n",
        "      return\n",
        "  except ValueError:\n",
        "      print(\"❌ Invalid Input. Please enter a number (1, 2, or 3).\")\n",
        "      return\n",
        "\n",
        "  user_choice = choices[user_selected -1]\n",
        "  print(f\"🧑‍💻 You selected: {user_choice}\")\n",
        "  print(f\"🖥️ Computer selected: {comp_selected}\")\n",
        "  if user_choice == comp_selected:\n",
        "    print(\"It's a tie! 🤝\")\n",
        "  else:\n",
        "    winning_cases = {\n",
        "            \"rock\": \"scissor\",\n",
        "            \"paper\": \"rock\",\n",
        "            \"scissor\": \"paper\"\n",
        "        }\n",
        "    if winning_cases[user_choice] == comp_selected:\n",
        "      print(\"You win 🎉\")\n",
        "    else:\n",
        "      print(\"You lose 😢\")\n",
        "\n",
        "\n",
        "if __name__ == '__main__':\n",
        "  main()"
      ],
      "metadata": {
        "colab": {
          "base_uri": "https://localhost:8080/"
        },
        "id": "PJuacBG-FkjG",
        "outputId": "19214397-6c8e-4e28-dd4c-e4e59ad5d861"
      },
      "execution_count": 74,
      "outputs": [
        {
          "output_type": "stream",
          "name": "stdout",
          "text": [
            "Select one of the following.\n",
            "1 Rock\n",
            "2 Paper\n",
            "3 Scissor\n",
            "Type Your choice here: 2\n",
            "🧑‍💻 You selected: paper\n",
            "🖥️ Computer selected: rock\n",
            "You win 🎉\n"
          ]
        }
      ]
    },
    {
      "cell_type": "markdown",
      "source": [
        "### **Project 5: Hangman Python Project**"
      ],
      "metadata": {
        "id": "FXYOwyAwQbWq"
      }
    },
    {
      "cell_type": "code",
      "source": [
        "def main():\n",
        "  pass\n",
        "\n",
        "if __name__ == '__main__':\n",
        "  main()"
      ],
      "metadata": {
        "id": "f5ByiszIQfR1"
      },
      "execution_count": 76,
      "outputs": []
    }
  ]
}