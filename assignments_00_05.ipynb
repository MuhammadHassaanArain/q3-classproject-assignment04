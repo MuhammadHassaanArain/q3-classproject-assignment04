{
  "cells": [
    {
      "cell_type": "markdown",
      "metadata": {
        "id": "view-in-github",
        "colab_type": "text"
      },
      "source": [
        "<a href=\"https://colab.research.google.com/github/MuhammadHassaanArain/q3-classproject-assignment04/blob/main/assignments_00_05.ipynb\" target=\"_parent\"><img src=\"https://colab.research.google.com/assets/colab-badge.svg\" alt=\"Open In Colab\"/></a>"
      ]
    },
    {
      "cell_type": "markdown",
      "metadata": {
        "id": "HBkMdcFKVre2"
      },
      "source": [
        "# **00-intro-python**\n"
      ]
    },
    {
      "cell_type": "markdown",
      "metadata": {
        "id": "9qwh0HOHWooQ"
      },
      "source": [
        "## 02_agreement_bot"
      ]
    },
    {
      "cell_type": "markdown",
      "metadata": {
        "id": "hP63zk1hWweW"
      },
      "source": [
        "\n",
        "Write a program which asks the user what their favorite animal is, and then always responds with \"My favorite animal is also ___!\" (the blank should be filled in with the user-inputted animal, of course).\n",
        "\n",
        "Here's a sample run of the program (user input is in bold italics - note the space between the prompt and the user input!):\n",
        "\n",
        "What's your favorite animal? cow\n",
        "\n",
        "My favorite animal is also cow!"
      ]
    },
    {
      "cell_type": "code",
      "execution_count": null,
      "metadata": {
        "colab": {
          "base_uri": "https://localhost:8080/"
        },
        "id": "cNMdXxNOW-2F",
        "outputId": "efc6b80c-17f1-4306-f9d5-a4df76c1e9ec"
      },
      "outputs": [
        {
          "name": "stdout",
          "output_type": "stream",
          "text": [
            "What's your favorite animal? cow\n",
            "My favorite animal is also cow!\n"
          ]
        }
      ],
      "source": [
        "def main():\n",
        "    user_input = input(\"What's your favorite animal? \")\n",
        "    print(f\"My favorite animal is also {user_input}!\")\n",
        "\n",
        "if __name__ == '__main__':\n",
        "    main()\n"
      ]
    },
    {
      "cell_type": "markdown",
      "metadata": {
        "id": "fU-2WRUXQaI3"
      },
      "source": [
        "## 01_add_two_numbers"
      ]
    },
    {
      "cell_type": "markdown",
      "metadata": {
        "id": "MtTOP5eYQqL-"
      },
      "source": [
        "Write a Python program that takes two integer inputs from the user and calculates their sum. The program should perform the following tasks:\n",
        "\n",
        "1-Prompt the user to enter the first number.\n",
        "\n",
        "2-Read the input and convert it to an integer.\n",
        "\n",
        "3-Prompt the user to enter the second number.\n",
        "\n",
        "4-Read the input and convert it to an integer.\n",
        "\n",
        "5-Calculate the sum of the two numbers.\n",
        "\n",
        "6-Print the total sum with an appropriate message."
      ]
    },
    {
      "cell_type": "code",
      "execution_count": null,
      "metadata": {
        "colab": {
          "base_uri": "https://localhost:8080/"
        },
        "id": "h8fo61AbQ6jt",
        "outputId": "b6364a9c-baf3-4be9-dc28-f8795fc912c6"
      },
      "outputs": [
        {
          "name": "stdout",
          "output_type": "stream",
          "text": [
            "Enter first number.2\n",
            "Enter second number.3\n",
            "Sum is:  5\n"
          ]
        }
      ],
      "source": [
        "def main():\n",
        "  num1:int = int(input(\"Enter first number.\"))\n",
        "  num2:int = int(input(\"Enter second number.\"))\n",
        "  total :int = num1 + num2\n",
        "  print(\"Sum is: \",total)\n",
        "\n",
        "if __name__ == '__main__':\n",
        "  main()\n"
      ]
    },
    {
      "cell_type": "markdown",
      "metadata": {
        "id": "4i492tP7Xpl_"
      },
      "source": [
        "## 03-fahrenheit_to_celsius"
      ]
    },
    {
      "cell_type": "markdown",
      "metadata": {
        "id": "rhaCCCW1X3Sa"
      },
      "source": [
        "Write a program which prompts the user for a temperature in Fahrenheit (this can be a number with decimal places!) and outputs the temperature converted to Celsius.\n",
        "\n",
        "The Celsius scale is widely used to measure temperature, but places still use Fahrenheit. Fahrenheit is another unit for temperature, but the scale is different from Celsius -- for example, 0 degrees Celsius is 32 degrees Fahrenheit!\n",
        "\n",
        "The equation you should use for converting from Fahrenheit to Celsius is the following:\n",
        "\n",
        "degrees_celsius = (degrees_fahrenheit - 32) * 5.0/9.0\n",
        "\n",
        "(Note. The .0 after the 5 and 9 matters in the line above!!!)\n",
        "\n",
        "Here's a sample run of the program (user input is in bold italics):\n",
        "\n",
        "Enter temperature in Fahrenheit: 76\n",
        "\n",
        "Temperature: 76.0F = 24.444444444444443C"
      ]
    },
    {
      "cell_type": "code",
      "execution_count": null,
      "metadata": {
        "colab": {
          "base_uri": "https://localhost:8080/"
        },
        "id": "DxAiyIALX_EN",
        "outputId": "a3402f4b-15a4-4e82-f3bc-fe3c49e4e828"
      },
      "outputs": [
        {
          "name": "stdout",
          "output_type": "stream",
          "text": [
            "Enter temperature in Fahrenheit: 76\n",
            "Temperatur: 76.0F = 24.444444C\n"
          ]
        }
      ],
      "source": [
        "def main(temp_far:float):\n",
        "  temp_in_cels = (temp_far-32)*5.0/9.0\n",
        "  print(f\"Temperatur: {temp_far}F = {temp_in_cels:.6f}C\")\n",
        "\n",
        "\n",
        "if __name__ == '__main__':\n",
        "  main(float(input(\"Enter temperature in Fahrenheit: \")))"
      ]
    },
    {
      "cell_type": "markdown",
      "metadata": {
        "id": "bZEWt-Lua6yM"
      },
      "source": [
        "## 04_how_old_are_they"
      ]
    },
    {
      "cell_type": "markdown",
      "metadata": {
        "id": "bsSZtGw9bH9c"
      },
      "source": [
        "Write a program to solve this age-related riddle!\n",
        "\n",
        "Anton, Beth, Chen, Drew, and Ethan are all friends. Their ages are as follows:\n",
        "\n",
        "Anton is 21 years old.\n",
        "\n",
        "Beth is 6 years older than Anton.\n",
        "\n",
        "Chen is 20 years older than Beth.\n",
        "\n",
        "Drew is as old as Chen's age plus Anton's age.\n",
        "\n",
        "Ethan is the same age as Chen.\n",
        "\n",
        "Your code should store each person's age to a variable and print their names and ages at the end. The autograder is sensitive to capitalization and punctuation, be careful! Your solution should look like this (the below numbers are made up -- your solution should have the correct values!):\n",
        "\n",
        "Anton is 3\n",
        "\n",
        "Beth is 4\n",
        "\n",
        "Chen is 5\n",
        "\n",
        "Drew is 6\n",
        "\n",
        "Ethan is 7"
      ]
    },
    {
      "cell_type": "code",
      "execution_count": null,
      "metadata": {
        "colab": {
          "base_uri": "https://localhost:8080/"
        },
        "id": "_p20_V4SbwaF",
        "outputId": "c1816022-8e3a-4bbe-811c-44e9a4982f36"
      },
      "outputs": [
        {
          "name": "stdout",
          "output_type": "stream",
          "text": [
            "Anton is 21\n",
            "Beth is 27\n",
            "Chen is 47\n",
            "Drew is 68\n",
            "Ethan is 47\n"
          ]
        }
      ],
      "source": [
        "def main():\n",
        "  Anton_age : int = 21\n",
        "  Beth_age : int= Anton_age + 6\n",
        "  Chen_age : int = Beth_age + 20\n",
        "  Drew_age : int = Chen_age + Anton_age\n",
        "  Ethan_age : int = Chen_age\n",
        "\n",
        "  print(f\"Anton is {Anton_age}\")\n",
        "  print(f\"Beth is {Beth_age}\")\n",
        "  print(f\"Chen is {Chen_age}\")\n",
        "  print(f\"Drew is {Drew_age}\")\n",
        "  print(f\"Ethan is {Ethan_age}\")\n",
        "\n",
        "if __name__ == '__main__':\n",
        "    main()\n"
      ]
    },
    {
      "cell_type": "markdown",
      "metadata": {
        "id": "ZMpjzC6Td9hY"
      },
      "source": [
        "## 05_triangle_perimeter"
      ]
    },
    {
      "cell_type": "markdown",
      "metadata": {
        "id": "QhsNCv2xeHfZ"
      },
      "source": [
        "Prompt the user to enter the lengths of each side of a triangle and then calculate and print the perimeter of the triangle (the sum of all of the side lengths).\n",
        "\n",
        "Here's a sample run of the program (user input is in bold italics):\n",
        "\n",
        "What is the length of side 1? 3\n",
        "\n",
        "What is the length of side 2? 4\n",
        "\n",
        "What is the length of side 3? 5.5\n",
        "\n",
        "The perimeter of the triangle is 12.5"
      ]
    },
    {
      "cell_type": "code",
      "execution_count": null,
      "metadata": {
        "colab": {
          "base_uri": "https://localhost:8080/"
        },
        "id": "7GUiQNgaeIe2",
        "outputId": "f1b6dd89-0e63-43dc-d9a1-5d794d46e2c8"
      },
      "outputs": [
        {
          "name": "stdout",
          "output_type": "stream",
          "text": [
            "What is the length of side 1? 3\n",
            "What is the length of side 2? 4\n",
            "What is the length of side 3? 5.5\n",
            "The perimeter of the triangle is  12.5\n"
          ]
        }
      ],
      "source": [
        "def main()-> None:\n",
        "  side1: float = float(input(\"What is the length of side 1? \"))\n",
        "  side2:float = float(input(\"What is the length of side 2? \"))\n",
        "  side3: float = float(input(\"What is the length of side 3? \"))\n",
        "  perimeter: float = side1 + side2 + side3\n",
        "  print(\"The perimeter of the triangle is \",perimeter)\n",
        "\n",
        "\n",
        "if __name__ == '__main__':\n",
        "  main()"
      ]
    },
    {
      "cell_type": "markdown",
      "metadata": {
        "id": "Npgc2-cFgbb4"
      },
      "source": [
        "## 06_square_number"
      ]
    },
    {
      "cell_type": "markdown",
      "metadata": {
        "id": "RH84DFj0ggj4"
      },
      "source": [
        "Ask the user for a number and print its square (the product of the number times itself).\n",
        "\n",
        "Here's a sample run of the program (user input is in bold italics):\n",
        "\n",
        "Type a number to see its square: 4\n",
        "\n",
        "4.0 squared is 16.0"
      ]
    },
    {
      "cell_type": "code",
      "execution_count": null,
      "metadata": {
        "colab": {
          "base_uri": "https://localhost:8080/"
        },
        "id": "h-tPld5UghY1",
        "outputId": "a916d3f4-9d27-4573-8eb9-5cb7dc2ac11c"
      },
      "outputs": [
        {
          "name": "stdout",
          "output_type": "stream",
          "text": [
            "Type a number to see its square: 4.4\n",
            "4.4 squared is 19.4\n"
          ]
        }
      ],
      "source": [
        "def main():\n",
        "  user_input : float = float(input(\"Type a number to see its square: \"))\n",
        "  square : float = user_input ** 2\n",
        "  print(f\"{user_input:.1f} squared is {square:.1f}\" )\n",
        "\n",
        "if __name__ == '__main__':\n",
        "  main()"
      ]
    },
    {
      "cell_type": "markdown",
      "metadata": {
        "id": "qfQ8U7DDlJKM"
      },
      "source": [
        "# **01_Expressions**"
      ]
    },
    {
      "cell_type": "markdown",
      "metadata": {
        "id": "E66k-Co2lkSY"
      },
      "source": [
        "## 01_dicesimulator"
      ]
    },
    {
      "cell_type": "markdown",
      "metadata": {
        "id": "5Mjem7Oxlmlw"
      },
      "source": [
        "Simulate rolling two dice, three times. Prints the results of each die roll. This program is used to show how variable scope works."
      ]
    },
    {
      "cell_type": "code",
      "execution_count": null,
      "metadata": {
        "colab": {
          "base_uri": "https://localhost:8080/"
        },
        "id": "BIdFUYb6lr22",
        "outputId": "9193bb1c-83e2-465a-9227-a8d158a9b97b"
      },
      "outputs": [
        {
          "name": "stdout",
          "output_type": "stream",
          "text": [
            "Die 1: 4, Die 2: 6, Total of two dice: 10\n",
            "Die 1: 2, Die 2: 2, Total of two dice: 4\n",
            "Die 1: 2, Die 2: 1, Total of two dice: 3\n"
          ]
        }
      ],
      "source": [
        "import random\n",
        "num_sides = 6\n",
        "def roll_dice():\n",
        "  die1 : int = random.randint(1,num_sides)\n",
        "  die2 : int = random.randint(1,num_sides)\n",
        "  total : int = die1 + die2\n",
        "  print(f\"Die 1: {die1}, Die 2: {die2}, Total of two dice: {total}\")\n",
        "\n",
        "def main():\n",
        "  roll_dice()\n",
        "  roll_dice()\n",
        "  roll_dice()\n",
        "\n",
        "\n",
        "if __name__ == '__main__':\n",
        "  main()"
      ]
    },
    {
      "cell_type": "markdown",
      "metadata": {
        "id": "rRxKxy9sethm"
      },
      "source": [
        "## 02_e=mc2"
      ]
    },
    {
      "cell_type": "markdown",
      "metadata": {
        "id": "WE1BC29ae1MX"
      },
      "source": [
        "Write a program that continually reads in mass from the user and then outputs the equivalent energy using Einstein's mass-energy equivalence formula (E stands for energy, m stands for mass, and C is the speed of light:\n",
        "\n",
        "E = m * c**2\n",
        "\n",
        "Almost 100 years ago, Albert Einstein famously discovered that mass and energy are interchangeable and are related by the above equation. You should ask the user for mass (m) in kilograms and use a constant value for the speed of light -- C = 299792458 m/s.\n",
        "\n",
        "Here's a sample run of the program (user input is in bold italics):\n",
        "\n",
        "Enter kilos of mass: 100\n",
        "\n",
        "e = m * C^2...\n",
        "\n",
        "m = 100.0 kg\n",
        "\n",
        "C = 299792458 m/s\n",
        "\n",
        "8.987551787368176e+18 joules of energy!"
      ]
    },
    {
      "cell_type": "code",
      "execution_count": null,
      "metadata": {
        "colab": {
          "base_uri": "https://localhost:8080/"
        },
        "id": "lRh80nr0e22w",
        "outputId": "8f206a21-1cf9-4075-ef1e-9e78162a32ce"
      },
      "outputs": [
        {
          "name": "stdout",
          "output_type": "stream",
          "text": [
            "Enter mass in kilograms: 100\n",
            "\n",
            "e = m * C^2...\n",
            "\n",
            "m = 100.0 kg\n",
            "C = 299792458 m/s\n",
            "8.98755e+18 joules of energy!\n",
            "\n"
          ]
        }
      ],
      "source": [
        "\n",
        "def main():\n",
        "    c = 299792458  # Speed of light in m/s (constant)\n",
        "    try:\n",
        "        mass = float(input(\"Enter mass in kilograms: \"))\n",
        "        energy = mass * c**2\n",
        "        print(\"\\ne = m * C^2...\\n\")\n",
        "        print(f\"m = {mass} kg\")\n",
        "        print(f\"C = {c} m/s\")\n",
        "        print(f\"{energy:.5e} joules of energy!\\n\")\n",
        "    except ValueError:\n",
        "        print(\"Invalid input. Please enter a valid number.\")\n",
        "\n",
        "if __name__ == '__main__':\n",
        "    main()\n",
        "\n",
        "\n"
      ]
    },
    {
      "cell_type": "markdown",
      "metadata": {
        "id": "u3PskGZIjSRR"
      },
      "source": [
        "## 03_feet_to_inches"
      ]
    },
    {
      "cell_type": "markdown",
      "metadata": {
        "id": "_IBEmuTTjXDT"
      },
      "source": [
        "Converts feet to inches. Feet is an American unit of measurement. There are 12 inches per foot. Foot is the singular, and feet is the plural."
      ]
    },
    {
      "cell_type": "code",
      "execution_count": null,
      "metadata": {
        "colab": {
          "base_uri": "https://localhost:8080/"
        },
        "id": "Uhj1DnZyjYE9",
        "outputId": "36180586-cbd1-4e20-b7c6-a9a87c3d0b2e"
      },
      "outputs": [
        {
          "name": "stdout",
          "output_type": "stream",
          "text": [
            "Enter Feet to convert in Inches: 1\n",
            "1.0 Foot = 12.0 Inches\n"
          ]
        }
      ],
      "source": [
        "\n",
        "def main():\n",
        "  feet = float(input(\"Enter Feet to convert in Inches: \"))\n",
        "  inches = feet * 12\n",
        "\n",
        "  foot_lebel = \"Foot\" if feet == 1 else \"Feet\"\n",
        "  inch_label = \"Inch\" if inches == 1 else \"Inches\"\n",
        "  print(f\"{feet} {foot_lebel} = {inches} {inch_label}\")\n",
        "\n",
        "\n",
        "if __name__ == '__main__':\n",
        "  main()"
      ]
    },
    {
      "cell_type": "markdown",
      "metadata": {
        "id": "t6qtF5bCmu4r"
      },
      "source": [
        "## 04_pythagorean_theorem"
      ]
    },
    {
      "cell_type": "markdown",
      "metadata": {
        "id": "sgwK0ULXmxTa"
      },
      "source": [
        "Write a program that asks the user for the lengths of the two perpendicular sides of a right triangle and outputs the length of the third side (the hypotenuse) using the Pythagorean theorem!\n",
        "\n",
        "The Pythagorean theorem, named after the ancient Greek thinker, Pythagoras, is a fundamental relation in geometry. It states that in a right triangle, the square of the hypotenuse is equal to the sum of the square of the other two sides.\n",
        "\n",
        "For instance, let's consider a right triangle ABC, with the right angle located at C. According to the Pythagorean theorem:\n",
        "\n",
        "BC ** 2 = AB ** 2 + AC ** 2\n",
        "\n",
        "Your code should read in the lengths of the sides AB and AC, and that outputs the length of the hypotenuse (BC). You will probably find math.sqrt() to be useful.\n",
        "\n",
        "Here's a sample run of the program (user input is in bold italics):\n",
        "\n",
        "Enter the length of AB: 3\n",
        "\n",
        "Enter the length of AC: 4\n",
        "\n",
        "The length of BC (the hypotenuse) is: 5.0"
      ]
    },
    {
      "cell_type": "code",
      "execution_count": null,
      "metadata": {
        "colab": {
          "base_uri": "https://localhost:8080/"
        },
        "id": "5tweccz-m1TD",
        "outputId": "17ffe1c1-127f-4ae6-d062-945347a8cd6c"
      },
      "outputs": [
        {
          "name": "stdout",
          "output_type": "stream",
          "text": [
            "Enter the Length of AB: 3\n",
            "Enter the Length of AC: 4\n",
            "The length of BC (the hypotenuse) is: 5.0\n"
          ]
        }
      ],
      "source": [
        "import math\n",
        "def main():\n",
        "  try:\n",
        "    AB: float = float(input(\"Enter the Length of AB: \"))\n",
        "    AC: float = float(input(\"Enter the Length of AC: \"))\n",
        "    if AB <= 0 or AC <= 0:\n",
        "      print(\"\\nLength must be positive numbers. Try again.\\n\")\n",
        "    else:\n",
        "      BC: float = math.sqrt(AB**2 + AC**2)\n",
        "      print(f\"The length of BC (the hypotenuse) is: {BC}\")\n",
        "  except ValueError:\n",
        "    print(\"Invalid input! Please enter a valid number.\\n\")\n",
        "\n",
        "if __name__ == '__main__':\n",
        "  main()"
      ]
    },
    {
      "cell_type": "markdown",
      "metadata": {
        "id": "Mc2d6BOgrlPr"
      },
      "source": [
        "## 05_remainder_division"
      ]
    },
    {
      "cell_type": "markdown",
      "metadata": {
        "id": "YS95VVKOryHQ"
      },
      "source": [
        "Ask the user for two numbers, one at a time, and then print the result of dividing the first number by the second and also the remainder of the division.\n",
        "\n",
        "Here's a sample run of the program (user input is in bold italics):\n",
        "\n",
        "Please enter an integer to be divided: 5\n",
        "\n",
        "Please enter an integer to divide by: 3\n",
        "\n",
        "The result of this division is 1 with a remainder of 2"
      ]
    },
    {
      "cell_type": "code",
      "execution_count": null,
      "metadata": {
        "colab": {
          "base_uri": "https://localhost:8080/"
        },
        "id": "XgJyLblGrzDX",
        "outputId": "e6a3e1ca-3f73-4777-8443-b52bde3591a8"
      },
      "outputs": [
        {
          "name": "stdout",
          "output_type": "stream",
          "text": [
            "Enter first number: 5\n",
            "Enter second number: 3\n",
            "The result of this division is 1.667 with a remainder of 2\n"
          ]
        }
      ],
      "source": [
        "def main():\n",
        " try:\n",
        "    num1 :float = float(input(\"Enter first number: \"))\n",
        "    num2 :float = float(input(\"Enter second number: \"))\n",
        "\n",
        "    if num2 == 0:\n",
        "       print(\"Division by zero is not allowed. Please enter a non-zero divisor.\\n\")\n",
        "    else:\n",
        "       division  = num1 / num2\n",
        "       remainder = num1 % num2\n",
        "       print(f\"The result of this division is {division:.3f} with a remainder of {remainder:.0f}\")\n",
        " except ValueError:\n",
        "    print('\\nInvalid input! Please enter a valid number.\\n')\n",
        "\n",
        "if __name__ == '__main__':\n",
        "  main()"
      ]
    },
    {
      "cell_type": "markdown",
      "metadata": {
        "id": "1DfglrlZvtAa"
      },
      "source": [
        "## 06_rolldice"
      ]
    },
    {
      "cell_type": "markdown",
      "metadata": {
        "id": "VNqibGZDvwVE"
      },
      "source": [
        "Simulate rolling two dice, and prints results of each roll as well as the total."
      ]
    },
    {
      "cell_type": "code",
      "execution_count": null,
      "metadata": {
        "colab": {
          "base_uri": "https://localhost:8080/"
        },
        "id": "6ElkeMsrvxYR",
        "outputId": "cd9aabd8-be6d-4695-92a8-f48d7029fe88"
      },
      "outputs": [
        {
          "name": "stdout",
          "output_type": "stream",
          "text": [
            "\n",
            "🎲 Rolling the dice... 🎲\n",
            "Dice 1:  6\n",
            "Dice 2:  1\n",
            "Total of Both: 7\n"
          ]
        }
      ],
      "source": [
        "import random\n",
        "def main():\n",
        "\n",
        "  dice1:int = random.randint(1,6)\n",
        "  dice2:int = random.randint(1,6)\n",
        "  total:int = dice1 + dice2\n",
        "  print(\"\\n🎲 Rolling the dice... 🎲\")\n",
        "  print(\"Dice 1: \",str(dice1))\n",
        "  print(\"Dice 2: \",str(dice2))\n",
        "  print(f\"Total of Both: {total}\")\n",
        "\n",
        "if __name__ == '__main__':\n",
        "  main()\n"
      ]
    },
    {
      "cell_type": "markdown",
      "metadata": {
        "id": "oX8VzKtvx2C0"
      },
      "source": [
        "## 06_seconds_in_year"
      ]
    },
    {
      "cell_type": "markdown",
      "metadata": {
        "id": "kexER1IGx6Vj"
      },
      "source": [
        "Use Python to calculate the number of seconds in a year, and tell the user what the result is in a nice print statement that looks like this (of course the value 5 should be the calculated number instead):\n",
        "\n",
        "There are 5 seconds in a year!\n",
        "\n",
        "You should use constants for this exercise -- there are 365 days in a year, 24 hours in a day, 60 minutes in an hour, and 60 seconds per minute."
      ]
    },
    {
      "cell_type": "code",
      "execution_count": null,
      "metadata": {
        "colab": {
          "base_uri": "https://localhost:8080/"
        },
        "id": "TrMuI71ax7dF",
        "outputId": "4caaa3e2-e812-41f6-fd80-36746413b50c"
      },
      "outputs": [
        {
          "output_type": "stream",
          "name": "stdout",
          "text": [
            "Enter number of years to calculate in seconds: 12\n",
            "Total seconds in 12 years: 378432000\n"
          ]
        }
      ],
      "source": [
        "def main():\n",
        "    days_in_year = 365\n",
        "    hours_in_day = 24\n",
        "    minutes_in_hour = 60\n",
        "    seconds_in_minute = 60\n",
        "\n",
        "    try:\n",
        "        user_input_year = int(input(\"Enter number of years to calculate in seconds: \"))\n",
        "        seconds_in_years = days_in_year * hours_in_day * minutes_in_hour * seconds_in_minute * user_input_year\n",
        "        print(f\"Total seconds in {user_input_year} years: {seconds_in_years}\")\n",
        "\n",
        "    except ValueError:\n",
        "        print(\"Invalid input! Please enter a valid number.\")\n",
        "\n",
        "if __name__ == '__main__':\n",
        "    main()\n"
      ]
    },
    {
      "cell_type": "markdown",
      "source": [
        "## 07_tiny_mad_lib"
      ],
      "metadata": {
        "id": "EcaKndEx-HPy"
      }
    },
    {
      "cell_type": "markdown",
      "source": [
        "Write a program which prompts the user for an adjective, then a noun, then a verb, and then prints a fun sentence with those words!\n",
        "\n",
        "Mad Libs is a word game where players are prompted for one word at a time, and the words are eventually filled into the blanks of a word template to make an entertaining story! We've provided you with the beginning of a sentence (the SENTENCE_START constant) which will end in a user-inputted adjective, noun, and then verb.\n",
        "\n",
        "Here's a sample run (user input is in bold italics):\n",
        "\n",
        "Please type an adjective and press enter. tiny\n",
        "\n",
        "Please type a noun and press enter. plant\n",
        "\n",
        "Please type a verb and press enter. fly\n",
        "\n",
        "Code in Place is fun. I learned to program and used Python to make my tiny plant fly!"
      ],
      "metadata": {
        "id": "yRpUtbjd_bx-"
      }
    },
    {
      "cell_type": "code",
      "source": [
        "Starter_Line = \"Code in Place is fun. I learned to program and used Python to make my\"\n",
        "def main():\n",
        "  adjective = input(\"Please type an adjective and press enter. \")\n",
        "  noun = input(\"Please type a noun and press enter. \")\n",
        "  verb = input(\"Please type a verb and press enter. \")\n",
        "  print(f\"{Starter_Line} {adjective} {noun} {verb}!\" )\n",
        "\n",
        "if __name__ == '__main__':\n",
        "    main()"
      ],
      "metadata": {
        "colab": {
          "base_uri": "https://localhost:8080/"
        },
        "id": "uk4lFZsh_c-7",
        "outputId": "2fb6b943-dc19-4946-a242-534303b90582"
      },
      "execution_count": null,
      "outputs": [
        {
          "output_type": "stream",
          "name": "stdout",
          "text": [
            "Please type an adjective and press enter. tiny\n",
            "Please type a noun and press enter. plant\n",
            "Please type a verb and press enter. fly\n",
            "Code in Place is fun. I learned to program and used Python to make my tiny plant fly!\n"
          ]
        }
      ]
    },
    {
      "cell_type": "markdown",
      "source": [
        "# **02_Lists**"
      ],
      "metadata": {
        "id": "kqU0gIah__Yw"
      }
    },
    {
      "cell_type": "markdown",
      "source": [
        "## 01_add_many_number"
      ],
      "metadata": {
        "id": "7QEpykqYAPIA"
      }
    },
    {
      "cell_type": "markdown",
      "source": [
        "Write a function that takes a list of numbers and returns the sum of those numbers."
      ],
      "metadata": {
        "id": "zOE7yC5bAVNi"
      }
    },
    {
      "cell_type": "code",
      "source": [
        "def sum_of_list(number:list[int])-> int:\n",
        "  total_so_far: int = 0\n",
        "  for num in number:\n",
        "    total_so_far += num\n",
        "  return total_so_far\n",
        "\n",
        "\n",
        "number_list:list[int] = [1,2,3,4,6]\n",
        "result = sum_of_list(number_list)\n",
        "print(result)"
      ],
      "metadata": {
        "colab": {
          "base_uri": "https://localhost:8080/"
        },
        "id": "QE5R_RMBAXBT",
        "outputId": "821871fc-d703-43c2-c709-d64c5a0d1a6b"
      },
      "execution_count": null,
      "outputs": [
        {
          "output_type": "stream",
          "name": "stdout",
          "text": [
            "16\n"
          ]
        }
      ]
    },
    {
      "cell_type": "markdown",
      "source": [
        "## 02_double_list"
      ],
      "metadata": {
        "id": "QkMwcSBsDA-z"
      }
    },
    {
      "cell_type": "markdown",
      "source": [
        "Write a program that doubles each element in a list of numbers. For example, if you start with this list:\n",
        "\n",
        "numbers = [1, 2, 3, 4]\n",
        "\n",
        "You should end with this list:\n",
        "\n",
        "numbers = [2, 4, 6, 8]"
      ],
      "metadata": {
        "id": "mq0ICWalDEtR"
      }
    },
    {
      "cell_type": "code",
      "source": [
        "def main(number:list[int])->list[int]:\n",
        "  for i in range(len(number)):\n",
        "    number[i] = number[i]*2\n",
        "  print(number)\n",
        "\n",
        "if __name__ == '__main__':\n",
        "  main([1, 2, 3, 4])"
      ],
      "metadata": {
        "colab": {
          "base_uri": "https://localhost:8080/"
        },
        "id": "2S2LFO6KDFas",
        "outputId": "1dc5e262-8f37-45f2-851c-d74f95c40da0"
      },
      "execution_count": null,
      "outputs": [
        {
          "output_type": "stream",
          "name": "stdout",
          "text": [
            "[2, 4, 6, 8]\n"
          ]
        }
      ]
    },
    {
      "cell_type": "markdown",
      "source": [
        "## 03_erase_canvas"
      ],
      "metadata": {
        "id": "2dfdbo4jEZeN"
      }
    },
    {
      "cell_type": "markdown",
      "source": [
        "Implement an 'eraser' on a canvas.\n",
        "\n",
        "The canvas consists of a grid of blue 'cells' which are drawn as rectangles on the screen. We then create an eraser rectangle which, when dragged around the canvas, sets all of the rectangles it is in contact with to white."
      ],
      "metadata": {
        "id": "U8_c5XOBEdkm"
      }
    },
    {
      "cell_type": "code",
      "source": [
        "from graphics import Canvas\n",
        "import time\n",
        "\n",
        "CANVAS_WIDTH : int = 400\n",
        "CANVAS_HEIGHT : int = 400\n",
        "\n",
        "CELL_SIZE : int = 40\n",
        "ERASER_SIZE : int = 20\n",
        "\n",
        "def erase_objects(canvas, eraser):\n",
        "    \"\"\"Erase objects in contact with the eraser\"\"\"\n",
        "    # Get mouse info to help us know which cells to delete\n",
        "    mouse_x = canvas.get_mouse_x()\n",
        "    mouse_y = canvas.get_mouse_y()\n",
        "\n",
        "    # Calculate where our eraser is\n",
        "    left_x = mouse_x\n",
        "    top_y = mouse_y\n",
        "    right_x = left_x + ERASER_SIZE\n",
        "    bottom_y = top_y + ERASER_SIZE\n",
        "\n",
        "    # Find things that overlap with our eraser\n",
        "    overlapping_objects = canvas.find_overlapping(left_x, top_y, right_x, bottom_y)\n",
        "\n",
        "    # For everything that overlaps with our eraser (that isn't our eraser), change\n",
        "    # its color to white\n",
        "    for overlapping_object in overlapping_objects:\n",
        "        if overlapping_object != eraser:\n",
        "            canvas.set_color(overlapping_object, 'white')\n",
        "\n",
        "# There is no need to edit code beyond this point\n",
        "\n",
        "def main():\n",
        "    canvas = Canvas(CANVAS_WIDTH, CANVAS_HEIGHT)\n",
        "\n",
        "    num_rows = CANVAS_HEIGHT // CELL_SIZE  # Figure out how many rows of cells we need\n",
        "    num_cols = CANVAS_WIDTH // CELL_SIZE   # Figure out how many columns of cells we need\n",
        "\n",
        "    # Make a grid of squares based on the number of rows and columns.\n",
        "    # The rows and columns along with our cell size help determine where\n",
        "    # each individual cell belongs in our grid!\n",
        "    for row in range(num_rows):\n",
        "        for col in range(num_cols):\n",
        "            left_x = col * CELL_SIZE\n",
        "            top_y = row * CELL_SIZE\n",
        "            right_x = left_x + CELL_SIZE   # The right coordinate of the cell is CELL_SIZE pixels away from the left\n",
        "            bottom_y = top_y + CELL_SIZE   # The bottom coordinate of the cell is CELL_SIZE pixels away from the top\n",
        "\n",
        "            # Create a single cell in the grid\n",
        "            cell = canvas.create_rectangle(left_x, top_y, right_x, bottom_y, 'blue')\n",
        "\n",
        "\n",
        "    canvas.wait_for_click()  # Wait for the user to click before creating the eraser\n",
        "\n",
        "    last_click_x, last_click_y = canvas.get_last_click()  # Get the starting location for the eraser\n",
        "\n",
        "    # Create our eraser\n",
        "    eraser = canvas.create_rectangle(\n",
        "        last_click_x,\n",
        "        last_click_y,\n",
        "        last_click_x + ERASER_SIZE,\n",
        "        last_click_y + ERASER_SIZE,\n",
        "        'pink'\n",
        "    )\n",
        "\n",
        "    # Move the eraser, and erase what it's touching\n",
        "    while True:\n",
        "        # Get where our mouse is and move the eraser to there\n",
        "        mouse_x = canvas.get_mouse_x()\n",
        "        mouse_y = canvas.get_mouse_y()\n",
        "        canvas.moveto(eraser, mouse_x, mouse_y)\n",
        "\n",
        "        # Erase anything touching the eraser\n",
        "        erase_objects(canvas, eraser)\n",
        "\n",
        "        time.sleep(0.05)\n",
        "\n",
        "\n",
        "if __name__ == '__main__':\n",
        "    main()"
      ],
      "metadata": {
        "colab": {
          "base_uri": "https://localhost:8080/",
          "height": 383
        },
        "id": "qishFwZjEeYa",
        "outputId": "64203286-3621-423b-87a4-0c7a6c0839dc"
      },
      "execution_count": null,
      "outputs": [
        {
          "output_type": "error",
          "ename": "ModuleNotFoundError",
          "evalue": "No module named 'graphics'",
          "traceback": [
            "\u001b[0;31m---------------------------------------------------------------------------\u001b[0m",
            "\u001b[0;31mModuleNotFoundError\u001b[0m                       Traceback (most recent call last)",
            "\u001b[0;32m<ipython-input-27-fe2cd1c6f4c4>\u001b[0m in \u001b[0;36m<cell line: 0>\u001b[0;34m()\u001b[0m\n\u001b[0;32m----> 1\u001b[0;31m \u001b[0;32mfrom\u001b[0m \u001b[0mgraphics\u001b[0m \u001b[0;32mimport\u001b[0m \u001b[0mCanvas\u001b[0m\u001b[0;34m\u001b[0m\u001b[0;34m\u001b[0m\u001b[0m\n\u001b[0m\u001b[1;32m      2\u001b[0m \u001b[0;32mimport\u001b[0m \u001b[0mtime\u001b[0m\u001b[0;34m\u001b[0m\u001b[0;34m\u001b[0m\u001b[0m\n\u001b[1;32m      3\u001b[0m \u001b[0;34m\u001b[0m\u001b[0m\n\u001b[1;32m      4\u001b[0m \u001b[0mCANVAS_WIDTH\u001b[0m \u001b[0;34m:\u001b[0m \u001b[0mint\u001b[0m \u001b[0;34m=\u001b[0m \u001b[0;36m400\u001b[0m\u001b[0;34m\u001b[0m\u001b[0;34m\u001b[0m\u001b[0m\n\u001b[1;32m      5\u001b[0m \u001b[0mCANVAS_HEIGHT\u001b[0m \u001b[0;34m:\u001b[0m \u001b[0mint\u001b[0m \u001b[0;34m=\u001b[0m \u001b[0;36m400\u001b[0m\u001b[0;34m\u001b[0m\u001b[0;34m\u001b[0m\u001b[0m\n",
            "\u001b[0;31mModuleNotFoundError\u001b[0m: No module named 'graphics'",
            "",
            "\u001b[0;31m---------------------------------------------------------------------------\u001b[0;32m\nNOTE: If your import is failing due to a missing package, you can\nmanually install dependencies using either !pip or !apt.\n\nTo view examples of installing some common dependencies, click the\n\"Open Examples\" button below.\n\u001b[0;31m---------------------------------------------------------------------------\u001b[0m\n"
          ],
          "errorDetails": {
            "actions": [
              {
                "action": "open_url",
                "actionText": "Open Examples",
                "url": "/notebooks/snippets/importing_libraries.ipynb"
              }
            ]
          }
        }
      ]
    },
    {
      "cell_type": "markdown",
      "source": [
        "## 04_flowing_with_data_structures"
      ],
      "metadata": {
        "id": "SBIs23wxFEky"
      }
    },
    {
      "cell_type": "markdown",
      "source": [
        "In the information flow lesson, we discussed using a variable storing a number as an example of scope. We saw that changes we made to the number inside a function did not stay unless we returned it. This is true for what we call immutable data types which include things like numbers and strings.\n",
        "\n",
        "However, there are also mutable data types where changes stay even if we don't return anything. Some examples of mutable data types are lists and dictionaries. This means that you should be mindful when modifying lists and dictionaries within helper functions since their changes stay whether or not you return them.\n",
        "\n",
        "To see this in action, fill out the add_three_copies(...) function which takes a list and some data and then adds three copies of the data to the list. Don't return anything and see what happens! Compare this process to the x = change(x) example and note the differences.\n",
        "\n",
        "Here is an example run of this program (user input in bold italics):\n",
        "\n",
        "Enter a message to copy: Hello world!\n",
        "\n",
        "List before: []\n",
        "\n",
        "List after: ['Hello world!', 'Hello world!', 'Hello world!']\n",
        "\n",
        "(Note. The concept of immutable/mutable data types is called mutability. Be careful because different programming languages have different rules regarding mutability!)"
      ],
      "metadata": {
        "id": "qPoRP9h-FK0E"
      }
    },
    {
      "cell_type": "code",
      "source": [],
      "metadata": {
        "id": "GvsJVYMlFL-C"
      },
      "execution_count": null,
      "outputs": []
    }
  ],
  "metadata": {
    "colab": {
      "collapsed_sections": [
        "HBkMdcFKVre2",
        "9qwh0HOHWooQ",
        "fU-2WRUXQaI3",
        "4i492tP7Xpl_",
        "bZEWt-Lua6yM",
        "ZMpjzC6Td9hY"
      ],
      "provenance": [],
      "gpuType": "T4",
      "authorship_tag": "ABX9TyN5FWLE4eBxrs1jjyT6kqKj",
      "include_colab_link": true
    },
    "kernelspec": {
      "display_name": "Python 3",
      "name": "python3"
    },
    "language_info": {
      "name": "python"
    },
    "accelerator": "GPU"
  },
  "nbformat": 4,
  "nbformat_minor": 0
}