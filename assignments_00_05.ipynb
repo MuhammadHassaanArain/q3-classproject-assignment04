{
  "nbformat": 4,
  "nbformat_minor": 0,
  "metadata": {
    "colab": {
      "provenance": [],
      "collapsed_sections": [
        "HBkMdcFKVre2",
        "9qwh0HOHWooQ",
        "fU-2WRUXQaI3",
        "4i492tP7Xpl_",
        "bZEWt-Lua6yM",
        "ZMpjzC6Td9hY"
      ],
      "gpuType": "T4",
      "authorship_tag": "ABX9TyMHHku1OzpnC0TJTOGy7kBQ",
      "include_colab_link": true
    },
    "kernelspec": {
      "name": "python3",
      "display_name": "Python 3"
    },
    "language_info": {
      "name": "python"
    },
    "accelerator": "GPU"
  },
  "cells": [
    {
      "cell_type": "markdown",
      "metadata": {
        "id": "view-in-github",
        "colab_type": "text"
      },
      "source": [
        "<a href=\"https://colab.research.google.com/github/MuhammadHassaanArain/q3-classproject-assignment04/blob/main/assignments_00_05.ipynb\" target=\"_parent\"><img src=\"https://colab.research.google.com/assets/colab-badge.svg\" alt=\"Open In Colab\"/></a>"
      ]
    },
    {
      "cell_type": "markdown",
      "source": [
        "# **00-intro-python**\n"
      ],
      "metadata": {
        "id": "HBkMdcFKVre2"
      }
    },
    {
      "cell_type": "markdown",
      "source": [
        "## 02_agreement_bot"
      ],
      "metadata": {
        "id": "9qwh0HOHWooQ"
      }
    },
    {
      "cell_type": "markdown",
      "source": [
        "\n",
        "Write a program which asks the user what their favorite animal is, and then always responds with \"My favorite animal is also ___!\" (the blank should be filled in with the user-inputted animal, of course).\n",
        "\n",
        "Here's a sample run of the program (user input is in bold italics - note the space between the prompt and the user input!):\n",
        "\n",
        "What's your favorite animal? cow\n",
        "\n",
        "My favorite animal is also cow!"
      ],
      "metadata": {
        "id": "hP63zk1hWweW"
      }
    },
    {
      "cell_type": "code",
      "source": [
        "def main():\n",
        "    user_input = input(\"What's your favorite animal? \")\n",
        "    print(f\"My favorite animal is also {user_input}!\")\n",
        "\n",
        "if __name__ == '__main__':\n",
        "    main()\n"
      ],
      "metadata": {
        "colab": {
          "base_uri": "https://localhost:8080/"
        },
        "id": "cNMdXxNOW-2F",
        "outputId": "efc6b80c-17f1-4306-f9d5-a4df76c1e9ec"
      },
      "execution_count": null,
      "outputs": [
        {
          "output_type": "stream",
          "name": "stdout",
          "text": [
            "What's your favorite animal? cow\n",
            "My favorite animal is also cow!\n"
          ]
        }
      ]
    },
    {
      "cell_type": "markdown",
      "source": [
        "## 01_add_two_numbers"
      ],
      "metadata": {
        "id": "fU-2WRUXQaI3"
      }
    },
    {
      "cell_type": "markdown",
      "source": [
        "Write a Python program that takes two integer inputs from the user and calculates their sum. The program should perform the following tasks:\n",
        "\n",
        "1-Prompt the user to enter the first number.\n",
        "\n",
        "2-Read the input and convert it to an integer.\n",
        "\n",
        "3-Prompt the user to enter the second number.\n",
        "\n",
        "4-Read the input and convert it to an integer.\n",
        "\n",
        "5-Calculate the sum of the two numbers.\n",
        "\n",
        "6-Print the total sum with an appropriate message."
      ],
      "metadata": {
        "id": "MtTOP5eYQqL-"
      }
    },
    {
      "cell_type": "code",
      "source": [
        "def main():\n",
        "  num1:int = int(input(\"Enter first number.\"))\n",
        "  num2:int = int(input(\"Enter second number.\"))\n",
        "  total :int = num1 + num2\n",
        "  print(\"Sum is: \",total)\n",
        "\n",
        "if __name__ == '__main__':\n",
        "  main()\n"
      ],
      "metadata": {
        "colab": {
          "base_uri": "https://localhost:8080/"
        },
        "id": "h8fo61AbQ6jt",
        "outputId": "b6364a9c-baf3-4be9-dc28-f8795fc912c6"
      },
      "execution_count": null,
      "outputs": [
        {
          "output_type": "stream",
          "name": "stdout",
          "text": [
            "Enter first number.2\n",
            "Enter second number.3\n",
            "Sum is:  5\n"
          ]
        }
      ]
    },
    {
      "cell_type": "markdown",
      "source": [
        "## 03-fahrenheit_to_celsius"
      ],
      "metadata": {
        "id": "4i492tP7Xpl_"
      }
    },
    {
      "cell_type": "markdown",
      "source": [
        "Write a program which prompts the user for a temperature in Fahrenheit (this can be a number with decimal places!) and outputs the temperature converted to Celsius.\n",
        "\n",
        "The Celsius scale is widely used to measure temperature, but places still use Fahrenheit. Fahrenheit is another unit for temperature, but the scale is different from Celsius -- for example, 0 degrees Celsius is 32 degrees Fahrenheit!\n",
        "\n",
        "The equation you should use for converting from Fahrenheit to Celsius is the following:\n",
        "\n",
        "degrees_celsius = (degrees_fahrenheit - 32) * 5.0/9.0\n",
        "\n",
        "(Note. The .0 after the 5 and 9 matters in the line above!!!)\n",
        "\n",
        "Here's a sample run of the program (user input is in bold italics):\n",
        "\n",
        "Enter temperature in Fahrenheit: 76\n",
        "\n",
        "Temperature: 76.0F = 24.444444444444443C"
      ],
      "metadata": {
        "id": "rhaCCCW1X3Sa"
      }
    },
    {
      "cell_type": "code",
      "source": [
        "def main(temp_far:float):\n",
        "  temp_in_cels = (temp_far-32)*5.0/9.0\n",
        "  print(f\"Temperatur: {temp_far}F = {temp_in_cels:.6f}C\")\n",
        "\n",
        "\n",
        "if __name__ == '__main__':\n",
        "  main(float(input(\"Enter temperature in Fahrenheit: \")))"
      ],
      "metadata": {
        "colab": {
          "base_uri": "https://localhost:8080/"
        },
        "id": "DxAiyIALX_EN",
        "outputId": "a3402f4b-15a4-4e82-f3bc-fe3c49e4e828"
      },
      "execution_count": null,
      "outputs": [
        {
          "output_type": "stream",
          "name": "stdout",
          "text": [
            "Enter temperature in Fahrenheit: 76\n",
            "Temperatur: 76.0F = 24.444444C\n"
          ]
        }
      ]
    },
    {
      "cell_type": "markdown",
      "source": [
        "## 04_how_old_are_they"
      ],
      "metadata": {
        "id": "bZEWt-Lua6yM"
      }
    },
    {
      "cell_type": "markdown",
      "source": [
        "Write a program to solve this age-related riddle!\n",
        "\n",
        "Anton, Beth, Chen, Drew, and Ethan are all friends. Their ages are as follows:\n",
        "\n",
        "Anton is 21 years old.\n",
        "\n",
        "Beth is 6 years older than Anton.\n",
        "\n",
        "Chen is 20 years older than Beth.\n",
        "\n",
        "Drew is as old as Chen's age plus Anton's age.\n",
        "\n",
        "Ethan is the same age as Chen.\n",
        "\n",
        "Your code should store each person's age to a variable and print their names and ages at the end. The autograder is sensitive to capitalization and punctuation, be careful! Your solution should look like this (the below numbers are made up -- your solution should have the correct values!):\n",
        "\n",
        "Anton is 3\n",
        "\n",
        "Beth is 4\n",
        "\n",
        "Chen is 5\n",
        "\n",
        "Drew is 6\n",
        "\n",
        "Ethan is 7"
      ],
      "metadata": {
        "id": "bsSZtGw9bH9c"
      }
    },
    {
      "cell_type": "code",
      "source": [
        "def main():\n",
        "  Anton_age : int = 21\n",
        "  Beth_age : int= Anton_age + 6\n",
        "  Chen_age : int = Beth_age + 20\n",
        "  Drew_age : int = Chen_age + Anton_age\n",
        "  Ethan_age : int = Chen_age\n",
        "\n",
        "  print(f\"Anton is {Anton_age}\")\n",
        "  print(f\"Beth is {Beth_age}\")\n",
        "  print(f\"Chen is {Chen_age}\")\n",
        "  print(f\"Drew is {Drew_age}\")\n",
        "  print(f\"Ethan is {Ethan_age}\")\n",
        "\n",
        "if __name__ == '__main__':\n",
        "    main()\n"
      ],
      "metadata": {
        "colab": {
          "base_uri": "https://localhost:8080/"
        },
        "id": "_p20_V4SbwaF",
        "outputId": "c1816022-8e3a-4bbe-811c-44e9a4982f36"
      },
      "execution_count": null,
      "outputs": [
        {
          "output_type": "stream",
          "name": "stdout",
          "text": [
            "Anton is 21\n",
            "Beth is 27\n",
            "Chen is 47\n",
            "Drew is 68\n",
            "Ethan is 47\n"
          ]
        }
      ]
    },
    {
      "cell_type": "markdown",
      "source": [
        "## 05_triangle_perimeter"
      ],
      "metadata": {
        "id": "ZMpjzC6Td9hY"
      }
    },
    {
      "cell_type": "markdown",
      "source": [
        "Prompt the user to enter the lengths of each side of a triangle and then calculate and print the perimeter of the triangle (the sum of all of the side lengths).\n",
        "\n",
        "Here's a sample run of the program (user input is in bold italics):\n",
        "\n",
        "What is the length of side 1? 3\n",
        "\n",
        "What is the length of side 2? 4\n",
        "\n",
        "What is the length of side 3? 5.5\n",
        "\n",
        "The perimeter of the triangle is 12.5"
      ],
      "metadata": {
        "id": "QhsNCv2xeHfZ"
      }
    },
    {
      "cell_type": "code",
      "source": [
        "def main()-> None:\n",
        "  side1: float = float(input(\"What is the length of side 1? \"))\n",
        "  side2:float = float(input(\"What is the length of side 2? \"))\n",
        "  side3: float = float(input(\"What is the length of side 3? \"))\n",
        "  perimeter: float = side1 + side2 + side3\n",
        "  print(\"The perimeter of the triangle is \",perimeter)\n",
        "\n",
        "\n",
        "if __name__ == '__main__':\n",
        "  main()"
      ],
      "metadata": {
        "colab": {
          "base_uri": "https://localhost:8080/"
        },
        "id": "7GUiQNgaeIe2",
        "outputId": "f1b6dd89-0e63-43dc-d9a1-5d794d46e2c8"
      },
      "execution_count": null,
      "outputs": [
        {
          "output_type": "stream",
          "name": "stdout",
          "text": [
            "What is the length of side 1? 3\n",
            "What is the length of side 2? 4\n",
            "What is the length of side 3? 5.5\n",
            "The perimeter of the triangle is  12.5\n"
          ]
        }
      ]
    },
    {
      "cell_type": "markdown",
      "source": [
        "## 06_square_number"
      ],
      "metadata": {
        "id": "Npgc2-cFgbb4"
      }
    },
    {
      "cell_type": "markdown",
      "source": [
        "Ask the user for a number and print its square (the product of the number times itself).\n",
        "\n",
        "Here's a sample run of the program (user input is in bold italics):\n",
        "\n",
        "Type a number to see its square: 4\n",
        "\n",
        "4.0 squared is 16.0"
      ],
      "metadata": {
        "id": "RH84DFj0ggj4"
      }
    },
    {
      "cell_type": "code",
      "source": [
        "def main():\n",
        "  user_input : float = float(input(\"Type a number to see its square: \"))\n",
        "  square : float = user_input ** 2\n",
        "  print(f\"{user_input:.1f} squared is {square:.1f}\" )\n",
        "\n",
        "if __name__ == '__main__':\n",
        "  main()"
      ],
      "metadata": {
        "colab": {
          "base_uri": "https://localhost:8080/"
        },
        "id": "h-tPld5UghY1",
        "outputId": "a916d3f4-9d27-4573-8eb9-5cb7dc2ac11c"
      },
      "execution_count": null,
      "outputs": [
        {
          "output_type": "stream",
          "name": "stdout",
          "text": [
            "Type a number to see its square: 4.4\n",
            "4.4 squared is 19.4\n"
          ]
        }
      ]
    },
    {
      "cell_type": "markdown",
      "source": [
        "# **01_Expressions**"
      ],
      "metadata": {
        "id": "qfQ8U7DDlJKM"
      }
    },
    {
      "cell_type": "markdown",
      "source": [
        "## 01_dicesimulator"
      ],
      "metadata": {
        "id": "E66k-Co2lkSY"
      }
    },
    {
      "cell_type": "markdown",
      "source": [
        "Simulate rolling two dice, three times. Prints the results of each die roll. This program is used to show how variable scope works."
      ],
      "metadata": {
        "id": "5Mjem7Oxlmlw"
      }
    },
    {
      "cell_type": "code",
      "source": [
        "import random\n",
        "num_sides = 6\n",
        "def roll_dice():\n",
        "  die1 : int = random.randint(1,num_sides)\n",
        "  die2 : int = random.randint(1,num_sides)\n",
        "  total : int = die1 + die2\n",
        "  print(f\"Die 1: {die1}, Die 2: {die2}, Total of two dice: {total}\")\n",
        "\n",
        "def main():\n",
        "  roll_dice()\n",
        "  roll_dice()\n",
        "  roll_dice()\n",
        "\n",
        "\n",
        "if __name__ == '__main__':\n",
        "  main()"
      ],
      "metadata": {
        "colab": {
          "base_uri": "https://localhost:8080/"
        },
        "id": "BIdFUYb6lr22",
        "outputId": "9193bb1c-83e2-465a-9227-a8d158a9b97b"
      },
      "execution_count": null,
      "outputs": [
        {
          "output_type": "stream",
          "name": "stdout",
          "text": [
            "Die 1: 4, Die 2: 6, Total of two dice: 10\n",
            "Die 1: 2, Die 2: 2, Total of two dice: 4\n",
            "Die 1: 2, Die 2: 1, Total of two dice: 3\n"
          ]
        }
      ]
    },
    {
      "cell_type": "markdown",
      "source": [
        "## 02_e=mc2"
      ],
      "metadata": {
        "id": "rRxKxy9sethm"
      }
    },
    {
      "cell_type": "markdown",
      "source": [
        "Write a program that continually reads in mass from the user and then outputs the equivalent energy using Einstein's mass-energy equivalence formula (E stands for energy, m stands for mass, and C is the speed of light:\n",
        "\n",
        "E = m * c**2\n",
        "\n",
        "Almost 100 years ago, Albert Einstein famously discovered that mass and energy are interchangeable and are related by the above equation. You should ask the user for mass (m) in kilograms and use a constant value for the speed of light -- C = 299792458 m/s.\n",
        "\n",
        "Here's a sample run of the program (user input is in bold italics):\n",
        "\n",
        "Enter kilos of mass: 100\n",
        "\n",
        "e = m * C^2...\n",
        "\n",
        "m = 100.0 kg\n",
        "\n",
        "C = 299792458 m/s\n",
        "\n",
        "8.987551787368176e+18 joules of energy!"
      ],
      "metadata": {
        "id": "WE1BC29ae1MX"
      }
    },
    {
      "cell_type": "code",
      "source": [
        "\n",
        "def main():\n",
        "    c = 299792458  # Speed of light in m/s (constant)\n",
        "    try:\n",
        "        mass = float(input(\"Enter mass in kilograms: \"))\n",
        "        energy = mass * c**2\n",
        "        print(\"\\ne = m * C^2...\\n\")\n",
        "        print(f\"m = {mass} kg\")\n",
        "        print(f\"C = {c} m/s\")\n",
        "        print(f\"{energy:.5e} joules of energy!\\n\")\n",
        "    except ValueError:\n",
        "        print(\"Invalid input. Please enter a valid number.\")\n",
        "\n",
        "if __name__ == '__main__':\n",
        "    main()\n",
        "\n",
        "\n"
      ],
      "metadata": {
        "colab": {
          "base_uri": "https://localhost:8080/"
        },
        "id": "lRh80nr0e22w",
        "outputId": "8f206a21-1cf9-4075-ef1e-9e78162a32ce"
      },
      "execution_count": 16,
      "outputs": [
        {
          "output_type": "stream",
          "name": "stdout",
          "text": [
            "Enter mass in kilograms: 100\n",
            "\n",
            "e = m * C^2...\n",
            "\n",
            "m = 100.0 kg\n",
            "C = 299792458 m/s\n",
            "8.98755e+18 joules of energy!\n",
            "\n"
          ]
        }
      ]
    },
    {
      "cell_type": "markdown",
      "source": [
        "## 03_feet_to_inches"
      ],
      "metadata": {
        "id": "u3PskGZIjSRR"
      }
    },
    {
      "cell_type": "markdown",
      "source": [
        "Converts feet to inches. Feet is an American unit of measurement. There are 12 inches per foot. Foot is the singular, and feet is the plural."
      ],
      "metadata": {
        "id": "_IBEmuTTjXDT"
      }
    },
    {
      "cell_type": "code",
      "source": [
        "\n",
        "def main():\n",
        "  feet = float(input(\"Enter Feet to convert in Inches: \"))\n",
        "  inches = feet * 12\n",
        "\n",
        "  foot_lebel = \"Foot\" if feet == 1 else \"Feet\"\n",
        "  inch_label = \"Inch\" if inches == 1 else \"Inches\"\n",
        "  print(f\"{feet} {foot_lebel} = {inches} {inch_label}\")\n",
        "\n",
        "\n",
        "if __name__ == '__main__':\n",
        "  main()"
      ],
      "metadata": {
        "colab": {
          "base_uri": "https://localhost:8080/"
        },
        "id": "Uhj1DnZyjYE9",
        "outputId": "36180586-cbd1-4e20-b7c6-a9a87c3d0b2e"
      },
      "execution_count": 34,
      "outputs": [
        {
          "output_type": "stream",
          "name": "stdout",
          "text": [
            "Enter Feet to convert in Inches: 1\n",
            "1.0 Foot = 12.0 Inches\n"
          ]
        }
      ]
    },
    {
      "cell_type": "markdown",
      "source": [
        "## 04_pythagorean_theorem"
      ],
      "metadata": {
        "id": "t6qtF5bCmu4r"
      }
    },
    {
      "cell_type": "markdown",
      "source": [
        "Write a program that asks the user for the lengths of the two perpendicular sides of a right triangle and outputs the length of the third side (the hypotenuse) using the Pythagorean theorem!\n",
        "\n",
        "The Pythagorean theorem, named after the ancient Greek thinker, Pythagoras, is a fundamental relation in geometry. It states that in a right triangle, the square of the hypotenuse is equal to the sum of the square of the other two sides.\n",
        "\n",
        "For instance, let's consider a right triangle ABC, with the right angle located at C. According to the Pythagorean theorem:\n",
        "\n",
        "BC ** 2 = AB ** 2 + AC ** 2\n",
        "\n",
        "Your code should read in the lengths of the sides AB and AC, and that outputs the length of the hypotenuse (BC). You will probably find math.sqrt() to be useful.\n",
        "\n",
        "Here's a sample run of the program (user input is in bold italics):\n",
        "\n",
        "Enter the length of AB: 3\n",
        "\n",
        "Enter the length of AC: 4\n",
        "\n",
        "The length of BC (the hypotenuse) is: 5.0"
      ],
      "metadata": {
        "id": "sgwK0ULXmxTa"
      }
    },
    {
      "cell_type": "code",
      "source": [
        "import math\n",
        "def main():\n",
        "  try:\n",
        "    AB: float = float(input(\"Enter the Length of AB: \"))\n",
        "    AC: float = float(input(\"Enter the Length of AC: \"))\n",
        "    if AB <= 0 or AC <= 0:\n",
        "      print(\"\\nLength must be positive numbers. Try again.\\n\")\n",
        "    else:\n",
        "      BC: float = math.sqrt(AB**2 + AC**2)\n",
        "      print(f\"The length of BC (the hypotenuse) is: {BC}\")\n",
        "  except ValueError:\n",
        "    print(\"Invalid input! Please enter a valid number.\\n\")\n",
        "\n",
        "if __name__ == '__main__':\n",
        "  main()"
      ],
      "metadata": {
        "colab": {
          "base_uri": "https://localhost:8080/"
        },
        "id": "5tweccz-m1TD",
        "outputId": "17ffe1c1-127f-4ae6-d062-945347a8cd6c"
      },
      "execution_count": 59,
      "outputs": [
        {
          "output_type": "stream",
          "name": "stdout",
          "text": [
            "Enter the Length of AB: 3\n",
            "Enter the Length of AC: 4\n",
            "The length of BC (the hypotenuse) is: 5.0\n"
          ]
        }
      ]
    },
    {
      "cell_type": "markdown",
      "source": [
        "## 05_remainder_division"
      ],
      "metadata": {
        "id": "Mc2d6BOgrlPr"
      }
    },
    {
      "cell_type": "markdown",
      "source": [
        "Ask the user for two numbers, one at a time, and then print the result of dividing the first number by the second and also the remainder of the division.\n",
        "\n",
        "Here's a sample run of the program (user input is in bold italics):\n",
        "\n",
        "Please enter an integer to be divided: 5\n",
        "\n",
        "Please enter an integer to divide by: 3\n",
        "\n",
        "The result of this division is 1 with a remainder of 2"
      ],
      "metadata": {
        "id": "YS95VVKOryHQ"
      }
    },
    {
      "cell_type": "code",
      "source": [
        "def main():\n",
        " try:\n",
        "    num1 :float = float(input(\"Enter first number: \"))\n",
        "    num2 :float = float(input(\"Enter second number: \"))\n",
        "\n",
        "    if num2 == 0:\n",
        "       print(\"Division by zero is not allowed. Please enter a non-zero divisor.\\n\")\n",
        "    else:\n",
        "       division  = num1 / num2\n",
        "       remainder = num1 % num2\n",
        "       print(f\"The result of this division is {division:.3f} with a remainder of {remainder:.0f}\")\n",
        " except ValueError:\n",
        "    print('\\nInvalid input! Please enter a valid number.\\n')\n",
        "\n",
        "if __name__ == '__main__':\n",
        "  main()"
      ],
      "metadata": {
        "colab": {
          "base_uri": "https://localhost:8080/"
        },
        "id": "XgJyLblGrzDX",
        "outputId": "e6a3e1ca-3f73-4777-8443-b52bde3591a8"
      },
      "execution_count": 93,
      "outputs": [
        {
          "output_type": "stream",
          "name": "stdout",
          "text": [
            "Enter first number: 5\n",
            "Enter second number: 3\n",
            "The result of this division is 1.667 with a remainder of 2\n"
          ]
        }
      ]
    },
    {
      "cell_type": "markdown",
      "source": [
        "## 06_rolldice"
      ],
      "metadata": {
        "id": "1DfglrlZvtAa"
      }
    },
    {
      "cell_type": "markdown",
      "source": [
        "Simulate rolling two dice, and prints results of each roll as well as the total."
      ],
      "metadata": {
        "id": "VNqibGZDvwVE"
      }
    },
    {
      "cell_type": "code",
      "source": [
        "import random\n",
        "def main():\n",
        "\n",
        "  dice1:int = random.randint(1,6)\n",
        "  dice2:int = random.randint(1,6)\n",
        "  total:int = dice1 + dice2\n",
        "  print(\"\\n🎲 Rolling the dice... 🎲\")\n",
        "  print(\"Dice 1: \",str(dice1))\n",
        "  print(\"Dice 2: \",str(dice2))\n",
        "  print(f\"Total of Both: {total}\")\n",
        "\n",
        "if __name__ == '__main__':\n",
        "  main()\n",
        ""
      ],
      "metadata": {
        "colab": {
          "base_uri": "https://localhost:8080/"
        },
        "id": "6ElkeMsrvxYR",
        "outputId": "cd9aabd8-be6d-4695-92a8-f48d7029fe88"
      },
      "execution_count": 119,
      "outputs": [
        {
          "output_type": "stream",
          "name": "stdout",
          "text": [
            "\n",
            "🎲 Rolling the dice... 🎲\n",
            "Dice 1:  6\n",
            "Dice 2:  1\n",
            "Total of Both: 7\n"
          ]
        }
      ]
    },
    {
      "cell_type": "markdown",
      "source": [
        "## 06_seconds_in_year"
      ],
      "metadata": {
        "id": "oX8VzKtvx2C0"
      }
    },
    {
      "cell_type": "markdown",
      "source": [
        "Use Python to calculate the number of seconds in a year, and tell the user what the result is in a nice print statement that looks like this (of course the value 5 should be the calculated number instead):\n",
        "\n",
        "There are 5 seconds in a year!\n",
        "\n",
        "You should use constants for this exercise -- there are 365 days in a year, 24 hours in a day, 60 minutes in an hour, and 60 seconds per minute."
      ],
      "metadata": {
        "id": "kexER1IGx6Vj"
      }
    },
    {
      "cell_type": "code",
      "source": [
        "def main():\n",
        "    days_in_year = 365\n",
        "    hours_in_day = 24\n",
        "    minutes_in_hour = 60\n",
        "    seconds_in_minute = 60\n",
        "\n",
        "    try:\n",
        "        user_input_year = int(input(\"Enter number of years to calculate in seconds: \"))\n",
        "        seconds_in_years = days_in_year * hours_in_day * minutes_in_hour * seconds_in_minute * user_input_year\n",
        "        print(f\"Total seconds in {user_input_year} years: {seconds_in_years}\")\n",
        "\n",
        "    except ValueError:\n",
        "        print(\"Invalid input! Please enter a valid number.\")\n",
        "\n",
        "if __name__ == '__main__':\n",
        "    main()\n"
      ],
      "metadata": {
        "colab": {
          "base_uri": "https://localhost:8080/"
        },
        "id": "TrMuI71ax7dF",
        "outputId": "4a57996b-c0fd-4243-93a4-6efd3ac1b8d7"
      },
      "execution_count": 3,
      "outputs": [
        {
          "output_type": "stream",
          "name": "stdout",
          "text": [
            "Enter number of years to calculate in seconds: 23\n",
            "Total seconds in 23 years: 725328000\n"
          ]
        }
      ]
    },
    {
      "cell_type": "markdown",
      "source": [
        "## 07_tiny_mad_lib"
      ],
      "metadata": {
        "id": "82aRPNES0q_D"
      }
    },
    {
      "cell_type": "markdown",
      "source": [
        "Write a program which prompts the user for an adjective, then a noun, then a verb, and then prints a fun sentence with those words!\n",
        "\n",
        "Mad Libs is a word game where players are prompted for one word at a time, and the words are eventually filled into the blanks of a word template to make an entertaining story! We've provided you with the beginning of a sentence (the SENTENCE_START constant) which will end in a user-inputted adjective, noun, and then verb.\n",
        "\n",
        "Here's a sample run (user input is in bold italics):\n",
        "\n",
        "Please type an adjective and press enter. tiny\n",
        "\n",
        "Please type a noun and press enter. plant\n",
        "\n",
        "Please type a verb and press enter. fly\n",
        "\n",
        "Code in Place is fun. I learned to program and used Python to make my tiny plant fly!"
      ],
      "metadata": {
        "id": "GEkXpzCF0wxD"
      }
    },
    {
      "cell_type": "code",
      "source": [
        "Starter_Line = \"Code in Place is fun. I learned to program and used Python to make my\"\n",
        "def main():\n",
        "  adjective = input(\"Please type an adjective and press enter. \")\n",
        "  noun = input(\"Please type a noun and press enter. \")\n",
        "  verb = input(\"Please type a verb and press enter. \")\n",
        "  print(f\"{Starter_Line} {adjective} {noun} {verb}!\" )\n",
        "\n",
        "if __name__ == '__main__':\n",
        "    main()"
      ],
      "metadata": {
        "id": "UV9VlQRW0zTs",
        "outputId": "cb228063-2c77-4931-a06a-d2ab90307dd5",
        "colab": {
          "base_uri": "https://localhost:8080/"
        }
      },
      "execution_count": 13,
      "outputs": [
        {
          "output_type": "stream",
          "name": "stdout",
          "text": [
            "Please type an adjective and press enter. tiny\n",
            "Please type a noun and press enter. plaant\n",
            "Please type a verb and press enter. fly\n",
            "Code in Place is fun. I learned to program and used Python to make my tiny plaant fly!\n"
          ]
        }
      ]
    },
    {
      "cell_type": "markdown",
      "source": [
        "# **02_Lists**"
      ],
      "metadata": {
        "id": "SGzw8ZeN3TEP"
      }
    },
    {
      "cell_type": "code",
      "source": [
        "print(\"hello world\")"
      ],
      "metadata": {
        "id": "-cOINuRC3W-U",
        "outputId": "35187f43-3d32-4392-d72b-33c26cba82cb",
        "colab": {
          "base_uri": "https://localhost:8080/"
        }
      },
      "execution_count": 14,
      "outputs": [
        {
          "output_type": "stream",
          "name": "stdout",
          "text": [
            "hello world\n"
          ]
        }
      ]
    }
  ]
}