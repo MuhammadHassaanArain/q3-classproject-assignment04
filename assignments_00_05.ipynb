{
  "cells": [
    {
      "cell_type": "markdown",
      "metadata": {
        "id": "view-in-github",
        "colab_type": "text"
      },
      "source": [
        "<a href=\"https://colab.research.google.com/github/MuhammadHassaanArain/q3-classproject-assignment04/blob/main/assignments_00_05.ipynb\" target=\"_parent\"><img src=\"https://colab.research.google.com/assets/colab-badge.svg\" alt=\"Open In Colab\"/></a>"
      ]
    },
    {
      "cell_type": "markdown",
      "metadata": {
        "id": "HBkMdcFKVre2"
      },
      "source": [
        "# **00-intro-python**\n"
      ]
    },
    {
      "cell_type": "markdown",
      "metadata": {
        "id": "9qwh0HOHWooQ"
      },
      "source": [
        "## 02_agreement_bot"
      ]
    },
    {
      "cell_type": "markdown",
      "metadata": {
        "id": "hP63zk1hWweW"
      },
      "source": [
        "\n",
        "Write a program which asks the user what their favorite animal is, and then always responds with \"My favorite animal is also ___!\" (the blank should be filled in with the user-inputted animal, of course).\n",
        "\n",
        "Here's a sample run of the program (user input is in bold italics - note the space between the prompt and the user input!):\n",
        "\n",
        "What's your favorite animal? cow\n",
        "\n",
        "My favorite animal is also cow!"
      ]
    },
    {
      "cell_type": "code",
      "execution_count": null,
      "metadata": {
        "colab": {
          "base_uri": "https://localhost:8080/"
        },
        "id": "cNMdXxNOW-2F",
        "outputId": "efc6b80c-17f1-4306-f9d5-a4df76c1e9ec"
      },
      "outputs": [
        {
          "name": "stdout",
          "output_type": "stream",
          "text": [
            "What's your favorite animal? cow\n",
            "My favorite animal is also cow!\n"
          ]
        }
      ],
      "source": [
        "def main():\n",
        "    user_input = input(\"What's your favorite animal? \")\n",
        "    print(f\"My favorite animal is also {user_input}!\")\n",
        "\n",
        "if __name__ == '__main__':\n",
        "    main()\n"
      ]
    },
    {
      "cell_type": "markdown",
      "metadata": {
        "id": "fU-2WRUXQaI3"
      },
      "source": [
        "## 01_add_two_numbers"
      ]
    },
    {
      "cell_type": "markdown",
      "metadata": {
        "id": "MtTOP5eYQqL-"
      },
      "source": [
        "Write a Python program that takes two integer inputs from the user and calculates their sum. The program should perform the following tasks:\n",
        "\n",
        "1-Prompt the user to enter the first number.\n",
        "\n",
        "2-Read the input and convert it to an integer.\n",
        "\n",
        "3-Prompt the user to enter the second number.\n",
        "\n",
        "4-Read the input and convert it to an integer.\n",
        "\n",
        "5-Calculate the sum of the two numbers.\n",
        "\n",
        "6-Print the total sum with an appropriate message."
      ]
    },
    {
      "cell_type": "code",
      "execution_count": null,
      "metadata": {
        "colab": {
          "base_uri": "https://localhost:8080/"
        },
        "id": "h8fo61AbQ6jt",
        "outputId": "b6364a9c-baf3-4be9-dc28-f8795fc912c6"
      },
      "outputs": [
        {
          "name": "stdout",
          "output_type": "stream",
          "text": [
            "Enter first number.2\n",
            "Enter second number.3\n",
            "Sum is:  5\n"
          ]
        }
      ],
      "source": [
        "def main():\n",
        "  num1:int = int(input(\"Enter first number.\"))\n",
        "  num2:int = int(input(\"Enter second number.\"))\n",
        "  total :int = num1 + num2\n",
        "  print(\"Sum is: \",total)\n",
        "\n",
        "if __name__ == '__main__':\n",
        "  main()\n"
      ]
    },
    {
      "cell_type": "markdown",
      "metadata": {
        "id": "4i492tP7Xpl_"
      },
      "source": [
        "## 03-fahrenheit_to_celsius"
      ]
    },
    {
      "cell_type": "markdown",
      "metadata": {
        "id": "rhaCCCW1X3Sa"
      },
      "source": [
        "Write a program which prompts the user for a temperature in Fahrenheit (this can be a number with decimal places!) and outputs the temperature converted to Celsius.\n",
        "\n",
        "The Celsius scale is widely used to measure temperature, but places still use Fahrenheit. Fahrenheit is another unit for temperature, but the scale is different from Celsius -- for example, 0 degrees Celsius is 32 degrees Fahrenheit!\n",
        "\n",
        "The equation you should use for converting from Fahrenheit to Celsius is the following:\n",
        "\n",
        "degrees_celsius = (degrees_fahrenheit - 32) * 5.0/9.0\n",
        "\n",
        "(Note. The .0 after the 5 and 9 matters in the line above!!!)\n",
        "\n",
        "Here's a sample run of the program (user input is in bold italics):\n",
        "\n",
        "Enter temperature in Fahrenheit: 76\n",
        "\n",
        "Temperature: 76.0F = 24.444444444444443C"
      ]
    },
    {
      "cell_type": "code",
      "execution_count": null,
      "metadata": {
        "colab": {
          "base_uri": "https://localhost:8080/"
        },
        "id": "DxAiyIALX_EN",
        "outputId": "a3402f4b-15a4-4e82-f3bc-fe3c49e4e828"
      },
      "outputs": [
        {
          "name": "stdout",
          "output_type": "stream",
          "text": [
            "Enter temperature in Fahrenheit: 76\n",
            "Temperatur: 76.0F = 24.444444C\n"
          ]
        }
      ],
      "source": [
        "def main(temp_far:float):\n",
        "  temp_in_cels = (temp_far-32)*5.0/9.0\n",
        "  print(f\"Temperatur: {temp_far}F = {temp_in_cels:.6f}C\")\n",
        "\n",
        "\n",
        "if __name__ == '__main__':\n",
        "  main(float(input(\"Enter temperature in Fahrenheit: \")))"
      ]
    },
    {
      "cell_type": "markdown",
      "metadata": {
        "id": "bZEWt-Lua6yM"
      },
      "source": [
        "## 04_how_old_are_they"
      ]
    },
    {
      "cell_type": "markdown",
      "metadata": {
        "id": "bsSZtGw9bH9c"
      },
      "source": [
        "Write a program to solve this age-related riddle!\n",
        "\n",
        "Anton, Beth, Chen, Drew, and Ethan are all friends. Their ages are as follows:\n",
        "\n",
        "Anton is 21 years old.\n",
        "\n",
        "Beth is 6 years older than Anton.\n",
        "\n",
        "Chen is 20 years older than Beth.\n",
        "\n",
        "Drew is as old as Chen's age plus Anton's age.\n",
        "\n",
        "Ethan is the same age as Chen.\n",
        "\n",
        "Your code should store each person's age to a variable and print their names and ages at the end. The autograder is sensitive to capitalization and punctuation, be careful! Your solution should look like this (the below numbers are made up -- your solution should have the correct values!):\n",
        "\n",
        "Anton is 3\n",
        "\n",
        "Beth is 4\n",
        "\n",
        "Chen is 5\n",
        "\n",
        "Drew is 6\n",
        "\n",
        "Ethan is 7"
      ]
    },
    {
      "cell_type": "code",
      "execution_count": null,
      "metadata": {
        "colab": {
          "base_uri": "https://localhost:8080/"
        },
        "id": "_p20_V4SbwaF",
        "outputId": "c1816022-8e3a-4bbe-811c-44e9a4982f36"
      },
      "outputs": [
        {
          "name": "stdout",
          "output_type": "stream",
          "text": [
            "Anton is 21\n",
            "Beth is 27\n",
            "Chen is 47\n",
            "Drew is 68\n",
            "Ethan is 47\n"
          ]
        }
      ],
      "source": [
        "def main():\n",
        "  Anton_age : int = 21\n",
        "  Beth_age : int= Anton_age + 6\n",
        "  Chen_age : int = Beth_age + 20\n",
        "  Drew_age : int = Chen_age + Anton_age\n",
        "  Ethan_age : int = Chen_age\n",
        "\n",
        "  print(f\"Anton is {Anton_age}\")\n",
        "  print(f\"Beth is {Beth_age}\")\n",
        "  print(f\"Chen is {Chen_age}\")\n",
        "  print(f\"Drew is {Drew_age}\")\n",
        "  print(f\"Ethan is {Ethan_age}\")\n",
        "\n",
        "if __name__ == '__main__':\n",
        "    main()\n"
      ]
    },
    {
      "cell_type": "markdown",
      "metadata": {
        "id": "ZMpjzC6Td9hY"
      },
      "source": [
        "## 05_triangle_perimeter"
      ]
    },
    {
      "cell_type": "markdown",
      "metadata": {
        "id": "QhsNCv2xeHfZ"
      },
      "source": [
        "Prompt the user to enter the lengths of each side of a triangle and then calculate and print the perimeter of the triangle (the sum of all of the side lengths).\n",
        "\n",
        "Here's a sample run of the program (user input is in bold italics):\n",
        "\n",
        "What is the length of side 1? 3\n",
        "\n",
        "What is the length of side 2? 4\n",
        "\n",
        "What is the length of side 3? 5.5\n",
        "\n",
        "The perimeter of the triangle is 12.5"
      ]
    },
    {
      "cell_type": "code",
      "execution_count": null,
      "metadata": {
        "colab": {
          "base_uri": "https://localhost:8080/"
        },
        "id": "7GUiQNgaeIe2",
        "outputId": "f1b6dd89-0e63-43dc-d9a1-5d794d46e2c8"
      },
      "outputs": [
        {
          "name": "stdout",
          "output_type": "stream",
          "text": [
            "What is the length of side 1? 3\n",
            "What is the length of side 2? 4\n",
            "What is the length of side 3? 5.5\n",
            "The perimeter of the triangle is  12.5\n"
          ]
        }
      ],
      "source": [
        "def main()-> None:\n",
        "  side1: float = float(input(\"What is the length of side 1? \"))\n",
        "  side2:float = float(input(\"What is the length of side 2? \"))\n",
        "  side3: float = float(input(\"What is the length of side 3? \"))\n",
        "  perimeter: float = side1 + side2 + side3\n",
        "  print(\"The perimeter of the triangle is \",perimeter)\n",
        "\n",
        "\n",
        "if __name__ == '__main__':\n",
        "  main()"
      ]
    },
    {
      "cell_type": "markdown",
      "metadata": {
        "id": "Npgc2-cFgbb4"
      },
      "source": [
        "## 06_square_number"
      ]
    },
    {
      "cell_type": "markdown",
      "metadata": {
        "id": "RH84DFj0ggj4"
      },
      "source": [
        "Ask the user for a number and print its square (the product of the number times itself).\n",
        "\n",
        "Here's a sample run of the program (user input is in bold italics):\n",
        "\n",
        "Type a number to see its square: 4\n",
        "\n",
        "4.0 squared is 16.0"
      ]
    },
    {
      "cell_type": "code",
      "execution_count": null,
      "metadata": {
        "colab": {
          "base_uri": "https://localhost:8080/"
        },
        "id": "h-tPld5UghY1",
        "outputId": "a916d3f4-9d27-4573-8eb9-5cb7dc2ac11c"
      },
      "outputs": [
        {
          "name": "stdout",
          "output_type": "stream",
          "text": [
            "Type a number to see its square: 4.4\n",
            "4.4 squared is 19.4\n"
          ]
        }
      ],
      "source": [
        "def main():\n",
        "  user_input : float = float(input(\"Type a number to see its square: \"))\n",
        "  square : float = user_input ** 2\n",
        "  print(f\"{user_input:.1f} squared is {square:.1f}\" )\n",
        "\n",
        "if __name__ == '__main__':\n",
        "  main()"
      ]
    },
    {
      "cell_type": "markdown",
      "metadata": {
        "id": "qfQ8U7DDlJKM"
      },
      "source": [
        "# **01_Expressions**"
      ]
    },
    {
      "cell_type": "markdown",
      "metadata": {
        "id": "E66k-Co2lkSY"
      },
      "source": [
        "## 01_dicesimulator"
      ]
    },
    {
      "cell_type": "markdown",
      "metadata": {
        "id": "5Mjem7Oxlmlw"
      },
      "source": [
        "Simulate rolling two dice, three times. Prints the results of each die roll. This program is used to show how variable scope works."
      ]
    },
    {
      "cell_type": "code",
      "execution_count": null,
      "metadata": {
        "colab": {
          "base_uri": "https://localhost:8080/"
        },
        "id": "BIdFUYb6lr22",
        "outputId": "9193bb1c-83e2-465a-9227-a8d158a9b97b"
      },
      "outputs": [
        {
          "name": "stdout",
          "output_type": "stream",
          "text": [
            "Die 1: 4, Die 2: 6, Total of two dice: 10\n",
            "Die 1: 2, Die 2: 2, Total of two dice: 4\n",
            "Die 1: 2, Die 2: 1, Total of two dice: 3\n"
          ]
        }
      ],
      "source": [
        "import random\n",
        "num_sides = 6\n",
        "def roll_dice():\n",
        "  die1 : int = random.randint(1,num_sides)\n",
        "  die2 : int = random.randint(1,num_sides)\n",
        "  total : int = die1 + die2\n",
        "  print(f\"Die 1: {die1}, Die 2: {die2}, Total of two dice: {total}\")\n",
        "\n",
        "def main():\n",
        "  roll_dice()\n",
        "  roll_dice()\n",
        "  roll_dice()\n",
        "\n",
        "\n",
        "if __name__ == '__main__':\n",
        "  main()"
      ]
    },
    {
      "cell_type": "markdown",
      "metadata": {
        "id": "rRxKxy9sethm"
      },
      "source": [
        "## 02_e=mc2"
      ]
    },
    {
      "cell_type": "markdown",
      "metadata": {
        "id": "WE1BC29ae1MX"
      },
      "source": [
        "Write a program that continually reads in mass from the user and then outputs the equivalent energy using Einstein's mass-energy equivalence formula (E stands for energy, m stands for mass, and C is the speed of light:\n",
        "\n",
        "E = m * c**2\n",
        "\n",
        "Almost 100 years ago, Albert Einstein famously discovered that mass and energy are interchangeable and are related by the above equation. You should ask the user for mass (m) in kilograms and use a constant value for the speed of light -- C = 299792458 m/s.\n",
        "\n",
        "Here's a sample run of the program (user input is in bold italics):\n",
        "\n",
        "Enter kilos of mass: 100\n",
        "\n",
        "e = m * C^2...\n",
        "\n",
        "m = 100.0 kg\n",
        "\n",
        "C = 299792458 m/s\n",
        "\n",
        "8.987551787368176e+18 joules of energy!"
      ]
    },
    {
      "cell_type": "code",
      "execution_count": null,
      "metadata": {
        "colab": {
          "base_uri": "https://localhost:8080/"
        },
        "id": "lRh80nr0e22w",
        "outputId": "8f206a21-1cf9-4075-ef1e-9e78162a32ce"
      },
      "outputs": [
        {
          "name": "stdout",
          "output_type": "stream",
          "text": [
            "Enter mass in kilograms: 100\n",
            "\n",
            "e = m * C^2...\n",
            "\n",
            "m = 100.0 kg\n",
            "C = 299792458 m/s\n",
            "8.98755e+18 joules of energy!\n",
            "\n"
          ]
        }
      ],
      "source": [
        "\n",
        "def main():\n",
        "    c = 299792458  # Speed of light in m/s (constant)\n",
        "    try:\n",
        "        mass = float(input(\"Enter mass in kilograms: \"))\n",
        "        energy = mass * c**2\n",
        "        print(\"\\ne = m * C^2...\\n\")\n",
        "        print(f\"m = {mass} kg\")\n",
        "        print(f\"C = {c} m/s\")\n",
        "        print(f\"{energy:.5e} joules of energy!\\n\")\n",
        "    except ValueError:\n",
        "        print(\"Invalid input. Please enter a valid number.\")\n",
        "\n",
        "if __name__ == '__main__':\n",
        "    main()\n",
        "\n",
        "\n"
      ]
    },
    {
      "cell_type": "markdown",
      "metadata": {
        "id": "u3PskGZIjSRR"
      },
      "source": [
        "## 03_feet_to_inches"
      ]
    },
    {
      "cell_type": "markdown",
      "metadata": {
        "id": "_IBEmuTTjXDT"
      },
      "source": [
        "Converts feet to inches. Feet is an American unit of measurement. There are 12 inches per foot. Foot is the singular, and feet is the plural."
      ]
    },
    {
      "cell_type": "code",
      "execution_count": null,
      "metadata": {
        "colab": {
          "base_uri": "https://localhost:8080/"
        },
        "id": "Uhj1DnZyjYE9",
        "outputId": "36180586-cbd1-4e20-b7c6-a9a87c3d0b2e"
      },
      "outputs": [
        {
          "name": "stdout",
          "output_type": "stream",
          "text": [
            "Enter Feet to convert in Inches: 1\n",
            "1.0 Foot = 12.0 Inches\n"
          ]
        }
      ],
      "source": [
        "\n",
        "def main():\n",
        "  feet = float(input(\"Enter Feet to convert in Inches: \"))\n",
        "  inches = feet * 12\n",
        "\n",
        "  foot_lebel = \"Foot\" if feet == 1 else \"Feet\"\n",
        "  inch_label = \"Inch\" if inches == 1 else \"Inches\"\n",
        "  print(f\"{feet} {foot_lebel} = {inches} {inch_label}\")\n",
        "\n",
        "\n",
        "if __name__ == '__main__':\n",
        "  main()"
      ]
    },
    {
      "cell_type": "markdown",
      "metadata": {
        "id": "t6qtF5bCmu4r"
      },
      "source": [
        "## 04_pythagorean_theorem"
      ]
    },
    {
      "cell_type": "markdown",
      "metadata": {
        "id": "sgwK0ULXmxTa"
      },
      "source": [
        "Write a program that asks the user for the lengths of the two perpendicular sides of a right triangle and outputs the length of the third side (the hypotenuse) using the Pythagorean theorem!\n",
        "\n",
        "The Pythagorean theorem, named after the ancient Greek thinker, Pythagoras, is a fundamental relation in geometry. It states that in a right triangle, the square of the hypotenuse is equal to the sum of the square of the other two sides.\n",
        "\n",
        "For instance, let's consider a right triangle ABC, with the right angle located at C. According to the Pythagorean theorem:\n",
        "\n",
        "BC ** 2 = AB ** 2 + AC ** 2\n",
        "\n",
        "Your code should read in the lengths of the sides AB and AC, and that outputs the length of the hypotenuse (BC). You will probably find math.sqrt() to be useful.\n",
        "\n",
        "Here's a sample run of the program (user input is in bold italics):\n",
        "\n",
        "Enter the length of AB: 3\n",
        "\n",
        "Enter the length of AC: 4\n",
        "\n",
        "The length of BC (the hypotenuse) is: 5.0"
      ]
    },
    {
      "cell_type": "code",
      "execution_count": null,
      "metadata": {
        "colab": {
          "base_uri": "https://localhost:8080/"
        },
        "id": "5tweccz-m1TD",
        "outputId": "17ffe1c1-127f-4ae6-d062-945347a8cd6c"
      },
      "outputs": [
        {
          "name": "stdout",
          "output_type": "stream",
          "text": [
            "Enter the Length of AB: 3\n",
            "Enter the Length of AC: 4\n",
            "The length of BC (the hypotenuse) is: 5.0\n"
          ]
        }
      ],
      "source": [
        "import math\n",
        "def main():\n",
        "  try:\n",
        "    AB: float = float(input(\"Enter the Length of AB: \"))\n",
        "    AC: float = float(input(\"Enter the Length of AC: \"))\n",
        "    if AB <= 0 or AC <= 0:\n",
        "      print(\"\\nLength must be positive numbers. Try again.\\n\")\n",
        "    else:\n",
        "      BC: float = math.sqrt(AB**2 + AC**2)\n",
        "      print(f\"The length of BC (the hypotenuse) is: {BC}\")\n",
        "  except ValueError:\n",
        "    print(\"Invalid input! Please enter a valid number.\\n\")\n",
        "\n",
        "if __name__ == '__main__':\n",
        "  main()"
      ]
    },
    {
      "cell_type": "markdown",
      "metadata": {
        "id": "Mc2d6BOgrlPr"
      },
      "source": [
        "## 05_remainder_division"
      ]
    },
    {
      "cell_type": "markdown",
      "metadata": {
        "id": "YS95VVKOryHQ"
      },
      "source": [
        "Ask the user for two numbers, one at a time, and then print the result of dividing the first number by the second and also the remainder of the division.\n",
        "\n",
        "Here's a sample run of the program (user input is in bold italics):\n",
        "\n",
        "Please enter an integer to be divided: 5\n",
        "\n",
        "Please enter an integer to divide by: 3\n",
        "\n",
        "The result of this division is 1 with a remainder of 2"
      ]
    },
    {
      "cell_type": "code",
      "execution_count": null,
      "metadata": {
        "colab": {
          "base_uri": "https://localhost:8080/"
        },
        "id": "XgJyLblGrzDX",
        "outputId": "e6a3e1ca-3f73-4777-8443-b52bde3591a8"
      },
      "outputs": [
        {
          "name": "stdout",
          "output_type": "stream",
          "text": [
            "Enter first number: 5\n",
            "Enter second number: 3\n",
            "The result of this division is 1.667 with a remainder of 2\n"
          ]
        }
      ],
      "source": [
        "def main():\n",
        " try:\n",
        "    num1 :float = float(input(\"Enter first number: \"))\n",
        "    num2 :float = float(input(\"Enter second number: \"))\n",
        "\n",
        "    if num2 == 0:\n",
        "       print(\"Division by zero is not allowed. Please enter a non-zero divisor.\\n\")\n",
        "    else:\n",
        "       division  = num1 / num2\n",
        "       remainder = num1 % num2\n",
        "       print(f\"The result of this division is {division:.3f} with a remainder of {remainder:.0f}\")\n",
        " except ValueError:\n",
        "    print('\\nInvalid input! Please enter a valid number.\\n')\n",
        "\n",
        "if __name__ == '__main__':\n",
        "  main()"
      ]
    },
    {
      "cell_type": "markdown",
      "metadata": {
        "id": "1DfglrlZvtAa"
      },
      "source": [
        "## 06_rolldice"
      ]
    },
    {
      "cell_type": "markdown",
      "metadata": {
        "id": "VNqibGZDvwVE"
      },
      "source": [
        "Simulate rolling two dice, and prints results of each roll as well as the total."
      ]
    },
    {
      "cell_type": "code",
      "execution_count": null,
      "metadata": {
        "colab": {
          "base_uri": "https://localhost:8080/"
        },
        "id": "6ElkeMsrvxYR",
        "outputId": "cd9aabd8-be6d-4695-92a8-f48d7029fe88"
      },
      "outputs": [
        {
          "name": "stdout",
          "output_type": "stream",
          "text": [
            "\n",
            "🎲 Rolling the dice... 🎲\n",
            "Dice 1:  6\n",
            "Dice 2:  1\n",
            "Total of Both: 7\n"
          ]
        }
      ],
      "source": [
        "import random\n",
        "def main():\n",
        "\n",
        "  dice1:int = random.randint(1,6)\n",
        "  dice2:int = random.randint(1,6)\n",
        "  total:int = dice1 + dice2\n",
        "  print(\"\\n🎲 Rolling the dice... 🎲\")\n",
        "  print(\"Dice 1: \",str(dice1))\n",
        "  print(\"Dice 2: \",str(dice2))\n",
        "  print(f\"Total of Both: {total}\")\n",
        "\n",
        "if __name__ == '__main__':\n",
        "  main()\n"
      ]
    },
    {
      "cell_type": "markdown",
      "metadata": {
        "id": "oX8VzKtvx2C0"
      },
      "source": [
        "## 06_seconds_in_year"
      ]
    },
    {
      "cell_type": "markdown",
      "metadata": {
        "id": "kexER1IGx6Vj"
      },
      "source": [
        "Use Python to calculate the number of seconds in a year, and tell the user what the result is in a nice print statement that looks like this (of course the value 5 should be the calculated number instead):\n",
        "\n",
        "There are 5 seconds in a year!\n",
        "\n",
        "You should use constants for this exercise -- there are 365 days in a year, 24 hours in a day, 60 minutes in an hour, and 60 seconds per minute."
      ]
    },
    {
      "cell_type": "code",
      "execution_count": null,
      "metadata": {
        "colab": {
          "base_uri": "https://localhost:8080/"
        },
        "id": "TrMuI71ax7dF",
        "outputId": "4caaa3e2-e812-41f6-fd80-36746413b50c"
      },
      "outputs": [
        {
          "output_type": "stream",
          "name": "stdout",
          "text": [
            "Enter number of years to calculate in seconds: 12\n",
            "Total seconds in 12 years: 378432000\n"
          ]
        }
      ],
      "source": [
        "def main():\n",
        "    days_in_year = 365\n",
        "    hours_in_day = 24\n",
        "    minutes_in_hour = 60\n",
        "    seconds_in_minute = 60\n",
        "\n",
        "    try:\n",
        "        user_input_year = int(input(\"Enter number of years to calculate in seconds: \"))\n",
        "        seconds_in_years = days_in_year * hours_in_day * minutes_in_hour * seconds_in_minute * user_input_year\n",
        "        print(f\"Total seconds in {user_input_year} years: {seconds_in_years}\")\n",
        "\n",
        "    except ValueError:\n",
        "        print(\"Invalid input! Please enter a valid number.\")\n",
        "\n",
        "if __name__ == '__main__':\n",
        "    main()\n"
      ]
    },
    {
      "cell_type": "markdown",
      "source": [
        "## 07_tiny_mad_lib"
      ],
      "metadata": {
        "id": "EcaKndEx-HPy"
      }
    },
    {
      "cell_type": "markdown",
      "source": [
        "Write a program which prompts the user for an adjective, then a noun, then a verb, and then prints a fun sentence with those words!\n",
        "\n",
        "Mad Libs is a word game where players are prompted for one word at a time, and the words are eventually filled into the blanks of a word template to make an entertaining story! We've provided you with the beginning of a sentence (the SENTENCE_START constant) which will end in a user-inputted adjective, noun, and then verb.\n",
        "\n",
        "Here's a sample run (user input is in bold italics):\n",
        "\n",
        "Please type an adjective and press enter. tiny\n",
        "\n",
        "Please type a noun and press enter. plant\n",
        "\n",
        "Please type a verb and press enter. fly\n",
        "\n",
        "Code in Place is fun. I learned to program and used Python to make my tiny plant fly!"
      ],
      "metadata": {
        "id": "yRpUtbjd_bx-"
      }
    },
    {
      "cell_type": "code",
      "source": [
        "Starter_Line = \"Code in Place is fun. I learned to program and used Python to make my\"\n",
        "def main():\n",
        "  adjective = input(\"Please type an adjective and press enter. \")\n",
        "  noun = input(\"Please type a noun and press enter. \")\n",
        "  verb = input(\"Please type a verb and press enter. \")\n",
        "  print(f\"{Starter_Line} {adjective} {noun} {verb}!\" )\n",
        "\n",
        "if __name__ == '__main__':\n",
        "    main()"
      ],
      "metadata": {
        "colab": {
          "base_uri": "https://localhost:8080/"
        },
        "id": "uk4lFZsh_c-7",
        "outputId": "2fb6b943-dc19-4946-a242-534303b90582"
      },
      "execution_count": null,
      "outputs": [
        {
          "output_type": "stream",
          "name": "stdout",
          "text": [
            "Please type an adjective and press enter. tiny\n",
            "Please type a noun and press enter. plant\n",
            "Please type a verb and press enter. fly\n",
            "Code in Place is fun. I learned to program and used Python to make my tiny plant fly!\n"
          ]
        }
      ]
    },
    {
      "cell_type": "markdown",
      "source": [
        "# **02_Lists**"
      ],
      "metadata": {
        "id": "kqU0gIah__Yw"
      }
    },
    {
      "cell_type": "markdown",
      "source": [
        "## 01_add_many_number"
      ],
      "metadata": {
        "id": "7QEpykqYAPIA"
      }
    },
    {
      "cell_type": "markdown",
      "source": [
        "Write a function that takes a list of numbers and returns the sum of those numbers."
      ],
      "metadata": {
        "id": "zOE7yC5bAVNi"
      }
    },
    {
      "cell_type": "code",
      "source": [
        "def sum_of_list(number:list[int])-> int:\n",
        "  total_so_far: int = 0\n",
        "  for num in number:\n",
        "    total_so_far += num\n",
        "  return total_so_far\n",
        "\n",
        "\n",
        "number_list:list[int] = [1,2,3,4,6]\n",
        "result = sum_of_list(number_list)\n",
        "print(result)"
      ],
      "metadata": {
        "colab": {
          "base_uri": "https://localhost:8080/"
        },
        "id": "QE5R_RMBAXBT",
        "outputId": "821871fc-d703-43c2-c709-d64c5a0d1a6b"
      },
      "execution_count": null,
      "outputs": [
        {
          "output_type": "stream",
          "name": "stdout",
          "text": [
            "16\n"
          ]
        }
      ]
    },
    {
      "cell_type": "markdown",
      "source": [
        "## 02_double_list"
      ],
      "metadata": {
        "id": "QkMwcSBsDA-z"
      }
    },
    {
      "cell_type": "markdown",
      "source": [
        "Write a program that doubles each element in a list of numbers. For example, if you start with this list:\n",
        "\n",
        "numbers = [1, 2, 3, 4]\n",
        "\n",
        "You should end with this list:\n",
        "\n",
        "numbers = [2, 4, 6, 8]"
      ],
      "metadata": {
        "id": "mq0ICWalDEtR"
      }
    },
    {
      "cell_type": "code",
      "source": [
        "def main(number:list[int])->list[int]:\n",
        "  for i in range(len(number)):\n",
        "    number[i] = number[i]*2\n",
        "  print(number)\n",
        "\n",
        "if __name__ == '__main__':\n",
        "  main([1, 2, 3, 4])"
      ],
      "metadata": {
        "colab": {
          "base_uri": "https://localhost:8080/"
        },
        "id": "2S2LFO6KDFas",
        "outputId": "1dc5e262-8f37-45f2-851c-d74f95c40da0"
      },
      "execution_count": null,
      "outputs": [
        {
          "output_type": "stream",
          "name": "stdout",
          "text": [
            "[2, 4, 6, 8]\n"
          ]
        }
      ]
    },
    {
      "cell_type": "markdown",
      "source": [
        "## 03_erase_canvas"
      ],
      "metadata": {
        "id": "2dfdbo4jEZeN"
      }
    },
    {
      "cell_type": "markdown",
      "source": [
        "Implement an 'eraser' on a canvas.\n",
        "\n",
        "The canvas consists of a grid of blue 'cells' which are drawn as rectangles on the screen. We then create an eraser rectangle which, when dragged around the canvas, sets all of the rectangles it is in contact with to white."
      ],
      "metadata": {
        "id": "U8_c5XOBEdkm"
      }
    },
    {
      "cell_type": "code",
      "source": [
        "from graphics import Canvas\n",
        "import time\n",
        "\n",
        "CANVAS_WIDTH : int = 400\n",
        "CANVAS_HEIGHT : int = 400\n",
        "\n",
        "CELL_SIZE : int = 40\n",
        "ERASER_SIZE : int = 20\n",
        "\n",
        "def erase_objects(canvas, eraser):\n",
        "    \"\"\"Erase objects in contact with the eraser\"\"\"\n",
        "    # Get mouse info to help us know which cells to delete\n",
        "    mouse_x = canvas.get_mouse_x()\n",
        "    mouse_y = canvas.get_mouse_y()\n",
        "\n",
        "    # Calculate where our eraser is\n",
        "    left_x = mouse_x\n",
        "    top_y = mouse_y\n",
        "    right_x = left_x + ERASER_SIZE\n",
        "    bottom_y = top_y + ERASER_SIZE\n",
        "\n",
        "    # Find things that overlap with our eraser\n",
        "    overlapping_objects = canvas.find_overlapping(left_x, top_y, right_x, bottom_y)\n",
        "\n",
        "    # For everything that overlaps with our eraser (that isn't our eraser), change\n",
        "    # its color to white\n",
        "    for overlapping_object in overlapping_objects:\n",
        "        if overlapping_object != eraser:\n",
        "            canvas.set_color(overlapping_object, 'white')\n",
        "\n",
        "# There is no need to edit code beyond this point\n",
        "\n",
        "def main():\n",
        "    canvas = Canvas(CANVAS_WIDTH, CANVAS_HEIGHT)\n",
        "\n",
        "    num_rows = CANVAS_HEIGHT // CELL_SIZE  # Figure out how many rows of cells we need\n",
        "    num_cols = CANVAS_WIDTH // CELL_SIZE   # Figure out how many columns of cells we need\n",
        "\n",
        "    # Make a grid of squares based on the number of rows and columns.\n",
        "    # The rows and columns along with our cell size help determine where\n",
        "    # each individual cell belongs in our grid!\n",
        "    for row in range(num_rows):\n",
        "        for col in range(num_cols):\n",
        "            left_x = col * CELL_SIZE\n",
        "            top_y = row * CELL_SIZE\n",
        "            right_x = left_x + CELL_SIZE   # The right coordinate of the cell is CELL_SIZE pixels away from the left\n",
        "            bottom_y = top_y + CELL_SIZE   # The bottom coordinate of the cell is CELL_SIZE pixels away from the top\n",
        "\n",
        "            # Create a single cell in the grid\n",
        "            cell = canvas.create_rectangle(left_x, top_y, right_x, bottom_y, 'blue')\n",
        "\n",
        "\n",
        "    canvas.wait_for_click()  # Wait for the user to click before creating the eraser\n",
        "\n",
        "    last_click_x, last_click_y = canvas.get_last_click()  # Get the starting location for the eraser\n",
        "\n",
        "    # Create our eraser\n",
        "    eraser = canvas.create_rectangle(\n",
        "        last_click_x,\n",
        "        last_click_y,\n",
        "        last_click_x + ERASER_SIZE,\n",
        "        last_click_y + ERASER_SIZE,\n",
        "        'pink'\n",
        "    )\n",
        "\n",
        "    # Move the eraser, and erase what it's touching\n",
        "    while True:\n",
        "        # Get where our mouse is and move the eraser to there\n",
        "        mouse_x = canvas.get_mouse_x()\n",
        "        mouse_y = canvas.get_mouse_y()\n",
        "        canvas.moveto(eraser, mouse_x, mouse_y)\n",
        "\n",
        "        # Erase anything touching the eraser\n",
        "        erase_objects(canvas, eraser)\n",
        "\n",
        "        time.sleep(0.05)\n",
        "\n",
        "\n",
        "if __name__ == '__main__':\n",
        "    main()"
      ],
      "metadata": {
        "colab": {
          "base_uri": "https://localhost:8080/",
          "height": 383
        },
        "id": "qishFwZjEeYa",
        "outputId": "64203286-3621-423b-87a4-0c7a6c0839dc"
      },
      "execution_count": null,
      "outputs": [
        {
          "output_type": "error",
          "ename": "ModuleNotFoundError",
          "evalue": "No module named 'graphics'",
          "traceback": [
            "\u001b[0;31m---------------------------------------------------------------------------\u001b[0m",
            "\u001b[0;31mModuleNotFoundError\u001b[0m                       Traceback (most recent call last)",
            "\u001b[0;32m<ipython-input-27-fe2cd1c6f4c4>\u001b[0m in \u001b[0;36m<cell line: 0>\u001b[0;34m()\u001b[0m\n\u001b[0;32m----> 1\u001b[0;31m \u001b[0;32mfrom\u001b[0m \u001b[0mgraphics\u001b[0m \u001b[0;32mimport\u001b[0m \u001b[0mCanvas\u001b[0m\u001b[0;34m\u001b[0m\u001b[0;34m\u001b[0m\u001b[0m\n\u001b[0m\u001b[1;32m      2\u001b[0m \u001b[0;32mimport\u001b[0m \u001b[0mtime\u001b[0m\u001b[0;34m\u001b[0m\u001b[0;34m\u001b[0m\u001b[0m\n\u001b[1;32m      3\u001b[0m \u001b[0;34m\u001b[0m\u001b[0m\n\u001b[1;32m      4\u001b[0m \u001b[0mCANVAS_WIDTH\u001b[0m \u001b[0;34m:\u001b[0m \u001b[0mint\u001b[0m \u001b[0;34m=\u001b[0m \u001b[0;36m400\u001b[0m\u001b[0;34m\u001b[0m\u001b[0;34m\u001b[0m\u001b[0m\n\u001b[1;32m      5\u001b[0m \u001b[0mCANVAS_HEIGHT\u001b[0m \u001b[0;34m:\u001b[0m \u001b[0mint\u001b[0m \u001b[0;34m=\u001b[0m \u001b[0;36m400\u001b[0m\u001b[0;34m\u001b[0m\u001b[0;34m\u001b[0m\u001b[0m\n",
            "\u001b[0;31mModuleNotFoundError\u001b[0m: No module named 'graphics'",
            "",
            "\u001b[0;31m---------------------------------------------------------------------------\u001b[0;32m\nNOTE: If your import is failing due to a missing package, you can\nmanually install dependencies using either !pip or !apt.\n\nTo view examples of installing some common dependencies, click the\n\"Open Examples\" button below.\n\u001b[0;31m---------------------------------------------------------------------------\u001b[0m\n"
          ],
          "errorDetails": {
            "actions": [
              {
                "action": "open_url",
                "actionText": "Open Examples",
                "url": "/notebooks/snippets/importing_libraries.ipynb"
              }
            ]
          }
        }
      ]
    },
    {
      "cell_type": "markdown",
      "source": [
        "## 04_flowing_with_data_structures"
      ],
      "metadata": {
        "id": "SBIs23wxFEky"
      }
    },
    {
      "cell_type": "markdown",
      "source": [
        "In the information flow lesson, we discussed using a variable storing a number as an example of scope. We saw that changes we made to the number inside a function did not stay unless we returned it. This is true for what we call immutable data types which include things like numbers and strings.\n",
        "\n",
        "However, there are also mutable data types where changes stay even if we don't return anything. Some examples of mutable data types are lists and dictionaries. This means that you should be mindful when modifying lists and dictionaries within helper functions since their changes stay whether or not you return them.\n",
        "\n",
        "To see this in action, fill out the add_three_copies(...) function which takes a list and some data and then adds three copies of the data to the list. Don't return anything and see what happens! Compare this process to the x = change(x) example and note the differences.\n",
        "\n",
        "Here is an example run of this program (user input in bold italics):\n",
        "\n",
        "Enter a message to copy: Hello world!\n",
        "\n",
        "List before: []\n",
        "\n",
        "List after: ['Hello world!', 'Hello world!', 'Hello world!']\n",
        "\n",
        "(Note. The concept of immutable/mutable data types is called mutability. Be careful because different programming languages have different rules regarding mutability!)"
      ],
      "metadata": {
        "id": "qPoRP9h-FK0E"
      }
    },
    {
      "cell_type": "code",
      "source": [
        "def add_three_copies(my_list:list,data:str):\n",
        "  for i in range(1,4):\n",
        "    my_list.append(data)\n",
        "\n",
        "def main():\n",
        "  user_input = input(\"Enter a message to copy:  \")\n",
        "  my_list = []\n",
        "  print(\"List Before\", my_list)\n",
        "  add_three_copies(my_list, user_input)\n",
        "  print(\"List After\", my_list)\n",
        "\n",
        "if __name__ == '__main__':\n",
        "  main()"
      ],
      "metadata": {
        "id": "GvsJVYMlFL-C",
        "colab": {
          "base_uri": "https://localhost:8080/"
        },
        "outputId": "77c9a5bc-1100-41f1-ef27-842b61880871"
      },
      "execution_count": null,
      "outputs": [
        {
          "output_type": "stream",
          "name": "stdout",
          "text": [
            "Enter a message to copy:  hello world!\n",
            "List Before []\n",
            "List After ['hello world!', 'hello world!', 'hello world!']\n"
          ]
        }
      ]
    },
    {
      "cell_type": "markdown",
      "source": [
        "## 05_get_first_element"
      ],
      "metadata": {
        "id": "SIW11gr8zSmo"
      }
    },
    {
      "cell_type": "markdown",
      "source": [
        "Fill out the function get_first_element(lst) which takes in a list lst as a parameter and prints the first element in the list. The list is guaranteed to be non-empty. We've written some code for you which prompts the user to input the list one element at a time."
      ],
      "metadata": {
        "id": "ETeF0mBQzWtL"
      }
    },
    {
      "cell_type": "code",
      "source": [
        "def get_first_element(my_list:list)-> None:\n",
        "  print(\"My first element: \",my_list[0])\n",
        "\n",
        "def get_list()-> list:\n",
        "  my_list = []\n",
        "  elem: str = input(\"Please enter an element of the list or press enter to stop. \")\n",
        "  while elem != \"\":\n",
        "    my_list.append(elem)\n",
        "    elem: str = input(\"Please enter an element of the list or press enter to stop. \")\n",
        "  return my_list\n",
        "\n",
        "def main():\n",
        "  my_list = get_list()\n",
        "  get_first_element(my_list)\n",
        "\n",
        "if __name__ == '__main__':\n",
        "  main()"
      ],
      "metadata": {
        "colab": {
          "base_uri": "https://localhost:8080/"
        },
        "id": "mDfVe65YzXpW",
        "outputId": "f06a9690-808d-4fca-c046-f949ae1389e4"
      },
      "execution_count": null,
      "outputs": [
        {
          "output_type": "stream",
          "name": "stdout",
          "text": [
            "Please enter an element of the list or press enter to stop. 4\n",
            "Please enter an element of the list or press enter to stop. 6\n",
            "Please enter an element of the list or press enter to stop. 2\n",
            "Please enter an element of the list or press enter to stop. 77\n",
            "Please enter an element of the list or press enter to stop. \n",
            "My first element:  4\n"
          ]
        }
      ]
    },
    {
      "cell_type": "markdown",
      "source": [
        "## 06_get_last_element"
      ],
      "metadata": {
        "id": "gS8Uq3pI2zLT"
      }
    },
    {
      "cell_type": "markdown",
      "source": [
        "Fill out the function get_last_element(lst) which takes in a list lst as a parameter and prints the last element in the list. The list is guaranteed to be non-empty, but there are no guarantees on its length."
      ],
      "metadata": {
        "id": "8eKD7Lri24FQ"
      }
    },
    {
      "cell_type": "code",
      "source": [
        "def get_last_element(my_list:list)-> None:\n",
        "  print(\"My last element: \",my_list[len(my_list) -1])\n",
        "\n",
        "def get_list():\n",
        "  my_list = []\n",
        "  elem = input(\"Please enter an element of the list or press enter to stop. \")\n",
        "  while elem != \"\":\n",
        "    my_list.append(elem)\n",
        "    elem = input(\"Please enter an element of the list or press enter to stop. \")\n",
        "  return my_list\n",
        "\n",
        "def main():\n",
        "  my_list = get_list()\n",
        "  get_last_element(my_list)\n",
        "\n",
        "\n",
        "if __name__ == '__main__':\n",
        "  main()"
      ],
      "metadata": {
        "colab": {
          "base_uri": "https://localhost:8080/"
        },
        "id": "Fm7yEc_z25Le",
        "outputId": "f62a1cd8-a818-4640-854a-61bfaafd1388"
      },
      "execution_count": null,
      "outputs": [
        {
          "output_type": "stream",
          "name": "stdout",
          "text": [
            "Please enter an element of the list or press enter to stop. 5\n",
            "Please enter an element of the list or press enter to stop. 3\n",
            "Please enter an element of the list or press enter to stop. 7\n",
            "Please enter an element of the list or press enter to stop. \n",
            "My first element:  7\n"
          ]
        }
      ]
    },
    {
      "cell_type": "markdown",
      "source": [
        "## 07_get_list"
      ],
      "metadata": {
        "id": "9il9Yr3H4umO"
      }
    },
    {
      "cell_type": "markdown",
      "source": [
        "Write a program which continuously asks the user to enter values which are added one by one into a list. When the user presses enter without typing anything, print the list.\n",
        "\n",
        "Here's a sample run (user input is in blue):\n",
        "\n",
        "Enter a value: 1 Enter a value: 2 Enter a value: 3 Enter a value: Here's the list: ['1', '2', '3']"
      ],
      "metadata": {
        "id": "ndqYlP4K4xbz"
      }
    },
    {
      "cell_type": "code",
      "source": [
        "def get_list():\n",
        "  my_list = []\n",
        "  elem = input(\"Enter a value: \")\n",
        "  while elem != \"\":\n",
        "    my_list.append(elem)\n",
        "    elem = input(\"Enter a value: \")\n",
        "  return my_list\n",
        "\n",
        "def main():\n",
        "  my_list = get_list()\n",
        "  print(\"Here's the list: \", my_list)\n",
        "\n",
        "if __name__ == '__main__':\n",
        "  main()\n"
      ],
      "metadata": {
        "colab": {
          "base_uri": "https://localhost:8080/"
        },
        "id": "wdqKDDOp4yJ5",
        "outputId": "9c9d8d35-fb6e-4b32-cfdb-3777b4f508d7"
      },
      "execution_count": null,
      "outputs": [
        {
          "output_type": "stream",
          "name": "stdout",
          "text": [
            "Enter a value: 4\n",
            "Enter a value: 7\n",
            "Enter a value: 3\n",
            "Enter a value: \n",
            "Here's the list:  ['4', '7', '3']\n"
          ]
        }
      ]
    },
    {
      "cell_type": "markdown",
      "source": [
        "## 08_shorten"
      ],
      "metadata": {
        "id": "0XcNRgw35u1j"
      }
    },
    {
      "cell_type": "markdown",
      "source": [
        "Fill out the function shorten(lst) which removes elements from the end of lst, which is a list, and prints each item it removes until lst is MAX_LENGTH items long. If lst is already shorter than MAX_LENGTH you should leave it unchanged. We've written a main() function for you which gets a list and passes it into your function once you run the program. For the autograder to pass you will need MAX_LENGTH to be 3, but feel free to change it around to test your program."
      ],
      "metadata": {
        "id": "zCF1l8S55xfB"
      }
    },
    {
      "cell_type": "code",
      "source": [
        "MAX_LENGTH = 3\n",
        "\n",
        "def shorten(my_list):\n",
        "    if len(my_list) <= MAX_LENGTH:\n",
        "      print(\"The list is already within the limit.\")\n",
        "    else:\n",
        "      print(\"Removing extra elements:\")\n",
        "      while len(my_list) > MAX_LENGTH:\n",
        "          last_elem = my_list.pop()\n",
        "          print(\"Final List: \",last_elem)\n",
        "\n",
        "def get_list():\n",
        "  my_list = []\n",
        "  elem = input(\"Enter a value: \")\n",
        "  while elem != \"\":\n",
        "    my_list.append(elem)\n",
        "    elem = input(\"Enter a value: \")\n",
        "  return my_list\n",
        "\n",
        "\n",
        "def main():\n",
        "  my_list = get_list()\n",
        "  shorten(my_list)\n",
        "\n",
        "if __name__ == '__main__':\n",
        "  main()"
      ],
      "metadata": {
        "colab": {
          "base_uri": "https://localhost:8080/"
        },
        "id": "tZspKbm450dF",
        "outputId": "25396193-16e6-4394-e0cc-84d2516a0b26"
      },
      "execution_count": null,
      "outputs": [
        {
          "output_type": "stream",
          "name": "stdout",
          "text": [
            "Enter a value: 3\n",
            "Enter a value: 5\n",
            "Enter a value: 6\n",
            "Enter a value: 7\n",
            "Enter a value: 2\n",
            "Enter a value: \n",
            "Removing extra elements:\n",
            "Final List:  2\n",
            "Final List:  7\n"
          ]
        }
      ]
    },
    {
      "cell_type": "markdown",
      "source": [
        "# **03_If_Statements**"
      ],
      "metadata": {
        "id": "d5v1tdOt-LGa"
      }
    },
    {
      "cell_type": "markdown",
      "source": [
        "## 01_print_events"
      ],
      "metadata": {
        "id": "3jv5ami_-QK0"
      }
    },
    {
      "cell_type": "markdown",
      "source": [
        "Write a program that prints the first 20 even numbers. There are several correct approaches, but they all use a loop of some sort. Do no write twenty print statements\n",
        "\n",
        "The first even number is 0:\n",
        "\n",
        "0 2 4 6 8 10 12 14 16 18 20 22 24 26 28 30 32 34 36 38"
      ],
      "metadata": {
        "id": "xOI3RxeP-XLD"
      }
    },
    {
      "cell_type": "code",
      "source": [
        "def main():\n",
        " for i in range(20):\n",
        "  print(i * 2)\n",
        "\n",
        "if __name__ == '__main__':\n",
        "  main()"
      ],
      "metadata": {
        "colab": {
          "base_uri": "https://localhost:8080/"
        },
        "id": "0o-8KaUg-YBE",
        "outputId": "acf5898a-8968-418a-9839-48665b154225"
      },
      "execution_count": null,
      "outputs": [
        {
          "output_type": "stream",
          "name": "stdout",
          "text": [
            "0\n",
            "2\n",
            "4\n",
            "6\n",
            "8\n",
            "10\n",
            "12\n",
            "14\n",
            "16\n",
            "18\n",
            "20\n",
            "22\n",
            "24\n",
            "26\n",
            "28\n",
            "30\n",
            "32\n",
            "34\n",
            "36\n",
            "38\n"
          ]
        }
      ]
    },
    {
      "cell_type": "markdown",
      "source": [
        "## 02_international_voting_age"
      ],
      "metadata": {
        "id": "CxIuuFg2_ln1"
      }
    },
    {
      "cell_type": "markdown",
      "source": [
        "Write a program which asks a user for their age and lets them know if they can or can't vote in the following three fictional countries.\n",
        "\n",
        "Around the world, different countries have different voting ages. In the fictional countries of Peturksbouipo, Stanlau, and Mayengua, the voting ages are very different:\n",
        "\n",
        "the voting age in Peturksbouipo is 16 (in real life, this is the voting age in, for example, Scotland, Ethiopia, and Austria)\n",
        "\n",
        "the voting age in Stanlau is 25 (in real life this is the voting age in the United Arab Emirates)\n",
        "\n",
        "the voting age in Mayengua is 48 (in real life, as far as we can tell, this isn't the voting age anywhere)\n",
        "\n",
        "Your code should prompt the for their age and print whether or not they can vote in Peturksbouipo, Stanlau, or Mayengua.\n",
        "\n",
        "Here's a sample run of the program (user input is in blue):\n",
        "\n",
        "How old are you? 20 You can vote in Peturksbouipo where the voting age is 16. You cannot vote in Stanlau where the voting age is 25. You cannot vote in Mayengua where the voting age is 48."
      ],
      "metadata": {
        "id": "z0-UPt35_qUW"
      }
    },
    {
      "cell_type": "code",
      "source": [
        "PETURKSBOUIPO_AGE : int = 16\n",
        "STANLAU_AGE : int = 25\n",
        "MAYENGUA_AGE : int = 48\n",
        "\n",
        "def main():\n",
        "  try:\n",
        "    user_age = int(input(\"How Old are you? \"))\n",
        "\n",
        "    if user_age >= PETURKSBOUIPO_AGE:\n",
        "      print(f\"✅ You can vote in Peturksbouipo where the voting age is {PETURKSBOUIPO_AGE}. \")\n",
        "    else:\n",
        "      print(f\"❌ You cannot vote in Peturksbouipo where the voting age is {PETURKSBOUIPO_AGE}. \")\n",
        "\n",
        "    if user_age >= STANLAU_AGE:\n",
        "      print(f\"✅ You can vote in Stanlau where the voting age is {STANLAU_AGE}. \")\n",
        "    else:\n",
        "      print(f\"❌ You cannot vote in Stanlau where the voting age is {STANLAU_AGE}. \")\n",
        "\n",
        "    if user_age >=MAYENGUA_AGE:\n",
        "      print(f\"✅ You can vote in Mayengua where the voting age is {MAYENGUA_AGE}. \")\n",
        "    else:\n",
        "      print(f\"❌ You cannot vote in Mayengua where the voting age is {MAYENGUA_AGE}. \")\n",
        "  except ValueError:\n",
        "    print(\"Invalid input! Please enter a valid age.\")\n",
        "\n",
        "if __name__ == '__main__':\n",
        "  main()"
      ],
      "metadata": {
        "colab": {
          "base_uri": "https://localhost:8080/"
        },
        "id": "vCNVe3Kr_rAr",
        "outputId": "74c39694-4f35-43c6-a4e8-cf8226b3e117"
      },
      "execution_count": null,
      "outputs": [
        {
          "output_type": "stream",
          "name": "stdout",
          "text": [
            "How Old are you? 17\n",
            "✅ You can vote in Peturksbouipo where the voting age is 16. \n",
            "❌ You cannot vote in Stanlau where the voting age is 25. \n",
            "❌ You cannot vote in Mayengua where the voting age is 48. \n"
          ]
        }
      ]
    },
    {
      "cell_type": "markdown",
      "source": [
        "## 03_leap_year"
      ],
      "metadata": {
        "id": "difuIGMLCqIk"
      }
    },
    {
      "cell_type": "markdown",
      "source": [
        "Write a program that reads a year from the user and tells whether a given year is a leap year or not.\n",
        "\n",
        "A leap year (also known as an intercalary year or bissextile year) is a calendar year that contains an additional day (or, in the case of a lunisolar calendar, a month) added to keep the calendar year synchronized with the astronomical year or seasonal year. In the Gregorian calendar, each leap year has 366 days instead of 365, by extending February to 29 days rather than the common 28.\n",
        "\n",
        "In the Gregorian calendar, three criteria must be checked to identify leap years:\n",
        "\n",
        "The given year must be evenly divisible by 4;\n",
        "If the year can also be evenly divided by 100, it is NOT a leap year; unless:\n",
        "The year is also evenly divisible by 400. Then it is a leap year.\n",
        "Your code should use the above criteria to check for a leap year and then print either \"That's a leap year!\" or \"That's not a leap year.\""
      ],
      "metadata": {
        "id": "WvCUoSJJCsiP"
      }
    },
    {
      "cell_type": "code",
      "source": [
        "# first Approach\n",
        "def main():\n",
        "    user_year = int(input(\"Please input a year: \"))\n",
        "\n",
        "    if user_year % 4 == 0:\n",
        "        if user_year % 100 == 0:\n",
        "            if user_year % 400 == 0:\n",
        "                print(\"That's a leap year!\")\n",
        "            else:\n",
        "                print(\"That's not a leap year.\")\n",
        "        else:\n",
        "            print(\"That's a leap year!\")\n",
        "    else:\n",
        "        print(\"That's not a leap year.\")\n",
        "\n",
        "\n",
        "if __name__ == '__main__':\n",
        "    main()\n",
        "\n",
        "# Second Approach\n",
        "def is_leap_year(year: int) -> bool:\n",
        "    if (year % 4 == 0 and year % 100 != 0) or (year % 400 == 0):\n",
        "        return True\n",
        "    return False\n",
        "\n",
        "year = int(input(\"Enter a year: \"))\n",
        "if is_leap_year(year):\n",
        "    print(f\"{year} is a leap year! ✅\")\n",
        "else:\n",
        "    print(f\"{year} is NOT a leap year! ❌\")\n",
        "\n"
      ],
      "metadata": {
        "colab": {
          "base_uri": "https://localhost:8080/"
        },
        "id": "_qv4TozICtac",
        "outputId": "5556a99e-08fd-4cd8-8768-c3cbd3552dd6"
      },
      "execution_count": null,
      "outputs": [
        {
          "output_type": "stream",
          "name": "stdout",
          "text": [
            "Please input a year: 2024\n",
            "That's a leap year!\n",
            "Enter a year: 2023\n",
            "2023 is NOT a leap year! ❌\n"
          ]
        }
      ]
    },
    {
      "cell_type": "markdown",
      "source": [
        "## 04_tall_enough_to_ride"
      ],
      "metadata": {
        "id": "HGr7uuHoGec2"
      }
    },
    {
      "cell_type": "markdown",
      "source": [
        "Write a program which asks the user how tall they are and prints whether or not they're taller than a pre-specified minimum height.\n",
        "\n",
        "In amusement parks (ah, the good old pre-pandemic days...), rollercoasters frequently have minimum height requirements for safety reasons. Assume for now that the minimum height is 50 of whatever height unit you'd like\n",
        "\n",
        "Here's two sample runs (user input is in bold italics):\n",
        "\n",
        "How tall are you? 100\n",
        "\n",
        "You're tall enough to ride!\n",
        "\n",
        "How tall are you? 10\n",
        "\n",
        "You're not tall enough to ride, but maybe next year!\n",
        "\n",
        "(For an extra challenge, write code which will repeatedly ask a user how tall they are and tell them whether or not they're tall enough to ride, until the user doesn't enter a height at all, in which case the program stops. Curious about how to do this? See the function tall_enough_extension() in the solution code!)"
      ],
      "metadata": {
        "id": "Gpp_kxSNGiln"
      }
    },
    {
      "cell_type": "code",
      "source": [
        "minimum_height: int = 50\n",
        "def  main():\n",
        "  try:\n",
        "    user_height = float(input(\"How tall are you? \"))\n",
        "    if user_height >= minimum_height:\n",
        "      print(\"You're tall enough to ride!\")\n",
        "    elif user_height < minimum_height:\n",
        "      print(\"You're not tall enough to ride, but maybe next year!\")\n",
        "  except ValueError:\n",
        "    print(\"Invalid input! Please enter a valid height.\")\n",
        "\n",
        "\n",
        "if __name__ == '__main__':\n",
        "    main()"
      ],
      "metadata": {
        "colab": {
          "base_uri": "https://localhost:8080/"
        },
        "id": "lhyek-hDGjYn",
        "outputId": "b5aa4cd8-635b-4fd6-b73f-9c8b6c4d8672"
      },
      "execution_count": null,
      "outputs": [
        {
          "output_type": "stream",
          "name": "stdout",
          "text": [
            "How tall are you? 65\n",
            "You're tall enough to ride!\n"
          ]
        }
      ]
    },
    {
      "cell_type": "markdown",
      "source": [
        "## 05_random_numbers"
      ],
      "metadata": {
        "id": "xXhRweKKIBF3"
      }
    },
    {
      "cell_type": "markdown",
      "source": [
        "Print 10 random numbers in the range 1 to 100.\n",
        "\n",
        "Here is an example run:\n",
        "\n",
        "45 79 61 47 52 10 16 83 19 12\n",
        "\n",
        "Each time you run your program you should get different numbers\n",
        "\n",
        "81 76 70 1 27 63 96 100 32 92\n",
        "\n",
        "Recall that the python random library has a function randint which returns an integer in the range set by the parameters (inclusive). For example this call would produce a random integer between 1 and 6, which could include 1 and could include 6:\n",
        "\n",
        "value = random.randint(1, 6)"
      ],
      "metadata": {
        "id": "pu4aft00IEPe"
      }
    },
    {
      "cell_type": "code",
      "source": [
        "import random\n",
        "def main():\n",
        "  value = [random.randint(0,100) for _ in range(10)]\n",
        "  print(value)\n",
        "\n",
        "\n",
        "if __name__ == '__main__':\n",
        "    main()"
      ],
      "metadata": {
        "colab": {
          "base_uri": "https://localhost:8080/"
        },
        "id": "SPMJLl7CIE-J",
        "outputId": "99ad2144-dfbb-442d-a9a9-c9ce08314fbb"
      },
      "execution_count": null,
      "outputs": [
        {
          "output_type": "stream",
          "name": "stdout",
          "text": [
            "[31, 9, 76, 77, 62, 38, 34, 52, 71, 88]\n"
          ]
        }
      ]
    },
    {
      "cell_type": "markdown",
      "source": [
        "# **04_dictionaries**"
      ],
      "metadata": {
        "id": "RNh2m8wiJsgx"
      }
    },
    {
      "cell_type": "markdown",
      "source": [
        "## 00_count_nums"
      ],
      "metadata": {
        "id": "mNCuezTXJx8w"
      }
    },
    {
      "cell_type": "markdown",
      "source": [
        "This program counts the number of times each number appears in a list. It uses a dictionary to keep track of the information.\n",
        "\n",
        "An example run of the program looks like this (user input is in blue):\n",
        "\n",
        "Enter a number: 3 Enter a number: 4 Enter a number: 3 Enter a number: 6 Enter a number: 4 Enter a number: 3 Enter a number: 12 Enter a number: 3 appears 3 times. 4 appears 2 times. 6 appears 1 times. 12 appears 1 times."
      ],
      "metadata": {
        "id": "sIZQ0VTMJ09C"
      }
    },
    {
      "cell_type": "code",
      "source": [
        "def get_user_number():\n",
        "  user_numbers = []\n",
        "  while True:\n",
        "    user_number = input(\"Enter a number: \")\n",
        "    if user_number == \"\":\n",
        "      break\n",
        "\n",
        "    num = int(user_number)\n",
        "    user_numbers.append(num)\n",
        "  return user_numbers\n",
        "\n",
        "def count_numss(num_list):\n",
        "  num_dict = {}\n",
        "  for num  in num_list:\n",
        "    if num not in num_dict:\n",
        "      num_dict[num] = 1\n",
        "    else:\n",
        "      num_dict[num] += 1\n",
        "  return num_dict\n",
        "\n",
        "\n",
        "def print_count(num_dict):\n",
        "  for num in num_dict:\n",
        "    print(str(num) + \" Appears \"+str(num_dict[num]) + \" Times.\")\n",
        "\n",
        "def main():\n",
        "  user_number = get_user_number()\n",
        "  num_dict = count_numss(user_number)\n",
        "  print_count(num_dict)\n",
        "\n",
        "\n",
        "if __name__ == '__main__':\n",
        "  main()"
      ],
      "metadata": {
        "id": "eT4XVu6QJ12Q",
        "colab": {
          "base_uri": "https://localhost:8080/"
        },
        "outputId": "7a6c52b4-f516-42b9-cb30-b67f0496f097"
      },
      "execution_count": 14,
      "outputs": [
        {
          "output_type": "stream",
          "name": "stdout",
          "text": [
            "Enter a number: 3\n",
            "Enter a number: 3\n",
            "Enter a number: 4\n",
            "Enter a number: 5\n",
            "Enter a number: \n",
            "3 Appears 2 Times.\n",
            "4 Appears 1 Times.\n",
            "5 Appears 1 Times.\n"
          ]
        }
      ]
    },
    {
      "cell_type": "markdown",
      "source": [
        "## 01_phonebook"
      ],
      "metadata": {
        "id": "J6GSvnb6Q96O"
      }
    },
    {
      "cell_type": "markdown",
      "source": [
        "In this program we show an example of using dictionaries to keep track of information in a phonebook."
      ],
      "metadata": {
        "id": "StzaPLufRBZO"
      }
    },
    {
      "cell_type": "code",
      "source": [
        "def read_phone_numbers():\n",
        "  phonebook = {}\n",
        "\n",
        "  while True:\n",
        "    name = input(\"Name: \")\n",
        "    if name == \"\":\n",
        "      break\n",
        "    number = input(\"Number: \")\n",
        "    phonebook[name] = number\n",
        "  return phonebook\n",
        "\n",
        "def print_phonebook(phonebook):\n",
        "  for name in phonebook:\n",
        "    print(f\"Name: {name}, Number: {phonebook[name]}\")\n",
        "\n",
        "def lookup_numbers(phonebook):\n",
        "  while True:\n",
        "    name = input(\"Enter name to lookup: \")\n",
        "    if name == \"\":\n",
        "      print(\"Exiting the program...\")\n",
        "      break\n",
        "    if name not in phonebook:\n",
        "      print(name + \" is not in phonebook.\")\n",
        "    else:\n",
        "      print(phonebook[name])\n",
        "\n",
        "def main():\n",
        "  phone_number = read_phone_numbers()\n",
        "  print_phonebook(phone_number)\n",
        "  lookup_numbers(phone_number)\n",
        "\n",
        "\n",
        "\n",
        "if __name__ == '__main__':\n",
        "  main()"
      ],
      "metadata": {
        "colab": {
          "base_uri": "https://localhost:8080/"
        },
        "id": "TO21Akl2RCGB",
        "outputId": "bfa147c4-b42d-46ac-991e-e10a8b5ae6d8"
      },
      "execution_count": 25,
      "outputs": [
        {
          "output_type": "stream",
          "name": "stdout",
          "text": [
            "Name: Hassaan\n",
            "Number: 0300-1234567\n",
            "Name: Aasia\n",
            "Number: 0300-7654321\n",
            "Name: \n",
            "Name: Hassaan, Number: 0300-1234567\n",
            "Name: Aasia, Number: 0300-7654321\n",
            "Enter name to lookup: Shani\n",
            "Shani is not in phonebook.\n",
            "Enter name to lookup: Hassaan\n",
            "0300-1234567\n",
            "Enter name to lookup: \n",
            "Exiting the program...\n"
          ]
        }
      ]
    },
    {
      "cell_type": "markdown",
      "source": [
        "## 02_pop_up_shop"
      ],
      "metadata": {
        "id": "MGSx4zuWUtsJ"
      }
    },
    {
      "cell_type": "markdown",
      "source": [
        "There's a small fruit shop nearby your house that you like to buy from. Since you buy several fruit at a time, you want to keep track of how much the fruit will cost before you go. Luckily you wrote down what fruits were available and how much one of each fruit costs.\n",
        "\n",
        "Write a program that loops through a dictionary of fruits, prompting the user to see how many of each fruit they want to buy, and then prints out the total combined cost of all of the fruits.\n",
        "\n",
        "Here is an example run of the program (user input is in bold italics):\n",
        "\n",
        "How many (apple) do you want?: 2\n",
        "\n",
        "How many (durian) do you want?: 0\n",
        "\n",
        "How many (jackfruit) do you want?: 1\n",
        "\n",
        "How many (kiwi) do you want?: 0\n",
        "\n",
        "How many (rambutan) do you want?: 1\n",
        "\n",
        "How many (mango) do you want?: 3\n",
        "\n",
        "Your total is $99.5"
      ],
      "metadata": {
        "id": "-i_K7biaUxMB"
      }
    },
    {
      "cell_type": "code",
      "source": [
        "def main():\n",
        "    fruits = {\n",
        "      'apple':20,\n",
        "      'durian':50,\n",
        "      'jackfruit':80,\n",
        "      'kivi':70,\n",
        "      'rambutan':100,\n",
        "      'mange':40\n",
        "  }\n",
        "    total_ammount : float = 0\n",
        "    try:\n",
        "        for fruit in fruits:\n",
        "            amount_bought = int(input(f\"How many ({fruit}) do you want? \"))\n",
        "            total_ammount += fruits[fruit] * amount_bought\n",
        "        print(f\"Your total is ${total_ammount}\")\n",
        "    except ValueError:\n",
        "      print(\"Please Enter Valid Quantity or '0' to skip!\")\n",
        "\n",
        "if __name__ == '__main__':\n",
        "    main()"
      ],
      "metadata": {
        "colab": {
          "base_uri": "https://localhost:8080/"
        },
        "id": "09fKXQXEUx4T",
        "outputId": "e058c049-6168-420d-fa0a-2dd9498c9c81"
      },
      "execution_count": 37,
      "outputs": [
        {
          "output_type": "stream",
          "name": "stdout",
          "text": [
            "How many (apple) do you want? 2\n",
            "How many (durian) do you want? 3\n",
            "How many (jackfruit) do you want? 6\n",
            "How many (kivi) do you want? 0\n",
            "How many (rambutan) do you want? 0\n",
            "How many (mange) do you want? 2\n",
            "Your total is $750\n"
          ]
        }
      ]
    },
    {
      "cell_type": "markdown",
      "source": [
        "## 03_powerful_passwords"
      ],
      "metadata": {
        "id": "jeVKHmLraciB"
      }
    },
    {
      "cell_type": "markdown",
      "source": [
        "You want to be safe online and use different passwords for different websites. However, you are forgetful at times and want to make a program that can match which password belongs to which website without storing the actual password!\n",
        "\n",
        "This can be done via something called hashing. Hashing is when we take something and convert it into a different, unique identifier. This is done using a hash function. Luckily, there are several resources that can help us with this.\n",
        "\n",
        "For example, using a hash function called SHA256(...) something as simple as\n",
        "\n",
        "hello\n",
        "\n",
        "can be hashed into a much more complex\n",
        "\n",
        "2cf24dba5fb0a30e26e83b2ac5b9e29e1b161e5c1fa7425e73043362938b9824\n",
        "\n",
        "Fill out the login(...) function for a website that hashes their passwords. Login should return True if an email's stored password hash in stored_logins is the same as the hash of password_to_check.\n",
        "\n",
        "(Hint. You will need to use the provided hash_password(...) function. You don't necessarily need to know how it works, just know that hash_password(...) returns the hash for the password!)"
      ],
      "metadata": {
        "id": "SxJH1z4WahBq"
      }
    },
    {
      "cell_type": "code",
      "source": [
        "from hashlib import sha256\n",
        "def login(email,stored_logins,password_to_check):\n",
        "  if stored_logins[email] == hash_password(password_to_check):\n",
        "    return True\n",
        "  return False\n",
        "\n",
        "def hash_password(password):\n",
        "  return sha256(password.encode()).hexdigest()\n",
        "\n",
        "def main():\n",
        "  stored_logins = {\n",
        "        \"example@gmail.com\": \"1817603e972f39b79cc22032937fa6385b43c4f93fd33e98b1df84e1dee84eef\",\n",
        "        \"abc@gmail.com\": \"70c7fce5078c4a67c3dfe24cc67856c2b863b09647361747c2c116f3a5c66cf9\"\n",
        "    }\n",
        "  print(\"Password: \",login(\"example@gmail.com\",stored_logins,\"xyz123@7\"))\n",
        "  print(\"Password: \",login(\"example@gmail.com\", stored_logins, \"password\"))\n",
        "\n",
        "  print(\"Password: \",login(\"abc@gmail.com\", stored_logins, \"passwordisthis2\"))\n",
        "  print(\"Password: \",login(\"abc@gmail.com\", stored_logins, \"thisispassword2\"))\n",
        "\n",
        "\n",
        "\n",
        "\n",
        "if __name__ == '__main__':\n",
        "    main()"
      ],
      "metadata": {
        "colab": {
          "base_uri": "https://localhost:8080/"
        },
        "id": "AMaLy0jVahvK",
        "outputId": "da3435f2-7f2c-4e65-ae52-bd92df221c0c"
      },
      "execution_count": 60,
      "outputs": [
        {
          "output_type": "stream",
          "name": "stdout",
          "text": [
            "Password:  True\n",
            "Password:  False\n",
            "Password:  False\n",
            "Password:  True\n"
          ]
        }
      ]
    },
    {
      "cell_type": "markdown",
      "source": [
        "# **05_loops_control_flow**"
      ],
      "metadata": {
        "id": "yGjOHOWae4EO"
      }
    },
    {
      "cell_type": "markdown",
      "source": [
        "## 00_guess_my_number"
      ],
      "metadata": {
        "id": "RvOY7HEne6Ud"
      }
    },
    {
      "cell_type": "markdown",
      "source": [
        "Guess My Number\n",
        "\n",
        "I am thinking of a number between 0 and 99... Enter a guess: 50 Your guess is too high\n",
        "\n",
        "Enter a new number: 25 Your guess is too low\n",
        "\n",
        "Enter a new number: 40 Your guess is too low\n",
        "\n",
        "Enter a new number: 45 Your guess is too low\n",
        "\n",
        "Enter a new number: 48 Congrats! The number was: 48"
      ],
      "metadata": {
        "id": "9NFF-mpwe9jL"
      }
    },
    {
      "cell_type": "code",
      "source": [
        "def main():\n",
        "  pass\n",
        "\n",
        "if __name__ == '__main__':\n",
        "  main()"
      ],
      "metadata": {
        "id": "bFR7JkJTfADu"
      },
      "execution_count": 62,
      "outputs": []
    }
  ],
  "metadata": {
    "colab": {
      "collapsed_sections": [
        "HBkMdcFKVre2",
        "9qwh0HOHWooQ",
        "fU-2WRUXQaI3",
        "4i492tP7Xpl_",
        "bZEWt-Lua6yM",
        "ZMpjzC6Td9hY"
      ],
      "provenance": [],
      "gpuType": "T4",
      "authorship_tag": "ABX9TyPS/txSFPu/l4yRFRMjRgDi",
      "include_colab_link": true
    },
    "kernelspec": {
      "display_name": "Python 3",
      "name": "python3"
    },
    "language_info": {
      "name": "python"
    },
    "accelerator": "GPU"
  },
  "nbformat": 4,
  "nbformat_minor": 0
}