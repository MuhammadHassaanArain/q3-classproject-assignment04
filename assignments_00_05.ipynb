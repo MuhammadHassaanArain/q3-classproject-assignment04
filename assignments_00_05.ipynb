{
  "nbformat": 4,
  "nbformat_minor": 0,
  "metadata": {
    "colab": {
      "provenance": [],
      "authorship_tag": "ABX9TyPS3NBn++tS1vpRjGWDbTZW",
      "include_colab_link": true
    },
    "kernelspec": {
      "name": "python3",
      "display_name": "Python 3"
    },
    "language_info": {
      "name": "python"
    }
  },
  "cells": [
    {
      "cell_type": "markdown",
      "metadata": {
        "id": "view-in-github",
        "colab_type": "text"
      },
      "source": [
        "<a href=\"https://colab.research.google.com/github/MuhammadHassaanArain/q3-classproject-assignment04/blob/main/assignments_00_05.ipynb\" target=\"_parent\"><img src=\"https://colab.research.google.com/assets/colab-badge.svg\" alt=\"Open In Colab\"/></a>"
      ]
    },
    {
      "cell_type": "markdown",
      "source": [
        "# **00-intro-python**\n"
      ],
      "metadata": {
        "id": "HBkMdcFKVre2"
      }
    },
    {
      "cell_type": "markdown",
      "source": [
        "## 02_agreement_bot"
      ],
      "metadata": {
        "id": "9qwh0HOHWooQ"
      }
    },
    {
      "cell_type": "markdown",
      "source": [
        "\n",
        "Write a program which asks the user what their favorite animal is, and then always responds with \"My favorite animal is also ___!\" (the blank should be filled in with the user-inputted animal, of course).\n",
        "\n",
        "Here's a sample run of the program (user input is in bold italics - note the space between the prompt and the user input!):\n",
        "\n",
        "What's your favorite animal? cow\n",
        "\n",
        "My favorite animal is also cow!"
      ],
      "metadata": {
        "id": "hP63zk1hWweW"
      }
    },
    {
      "cell_type": "code",
      "source": [
        "def main():\n",
        "    user_input = input(\"What's your favorite animal? \")\n",
        "    print(f\"My favorite animal is also {user_input}!\")\n",
        "\n",
        "if __name__ == '__main__':\n",
        "    main()\n"
      ],
      "metadata": {
        "colab": {
          "base_uri": "https://localhost:8080/"
        },
        "id": "cNMdXxNOW-2F",
        "outputId": "efc6b80c-17f1-4306-f9d5-a4df76c1e9ec"
      },
      "execution_count": 8,
      "outputs": [
        {
          "output_type": "stream",
          "name": "stdout",
          "text": [
            "What's your favorite animal? cow\n",
            "My favorite animal is also cow!\n"
          ]
        }
      ]
    },
    {
      "cell_type": "markdown",
      "source": [
        "## 01_add_two_numbers"
      ],
      "metadata": {
        "id": "fU-2WRUXQaI3"
      }
    },
    {
      "cell_type": "markdown",
      "source": [
        "Write a Python program that takes two integer inputs from the user and calculates their sum. The program should perform the following tasks:\n",
        "\n",
        "1-Prompt the user to enter the first number.\n",
        "\n",
        "2-Read the input and convert it to an integer.\n",
        "\n",
        "3-Prompt the user to enter the second number.\n",
        "\n",
        "4-Read the input and convert it to an integer.\n",
        "\n",
        "5-Calculate the sum of the two numbers.\n",
        "\n",
        "6-Print the total sum with an appropriate message."
      ],
      "metadata": {
        "id": "MtTOP5eYQqL-"
      }
    },
    {
      "cell_type": "code",
      "source": [
        "def main():\n",
        "  num1:int = int(input(\"Enter first number.\"))\n",
        "  num2:int = int(input(\"Enter second number.\"))\n",
        "  total :int = num1 + num2\n",
        "  print(\"Sum is: \",total)\n",
        "\n",
        "if __name__ == '__main__':\n",
        "  main()\n"
      ],
      "metadata": {
        "colab": {
          "base_uri": "https://localhost:8080/"
        },
        "id": "h8fo61AbQ6jt",
        "outputId": "b6364a9c-baf3-4be9-dc28-f8795fc912c6"
      },
      "execution_count": null,
      "outputs": [
        {
          "output_type": "stream",
          "name": "stdout",
          "text": [
            "Enter first number.2\n",
            "Enter second number.3\n",
            "Sum is:  5\n"
          ]
        }
      ]
    },
    {
      "cell_type": "markdown",
      "source": [
        "## 03-fahrenheit_to_celsius"
      ],
      "metadata": {
        "id": "4i492tP7Xpl_"
      }
    },
    {
      "cell_type": "markdown",
      "source": [
        "Write a program which prompts the user for a temperature in Fahrenheit (this can be a number with decimal places!) and outputs the temperature converted to Celsius.\n",
        "\n",
        "The Celsius scale is widely used to measure temperature, but places still use Fahrenheit. Fahrenheit is another unit for temperature, but the scale is different from Celsius -- for example, 0 degrees Celsius is 32 degrees Fahrenheit!\n",
        "\n",
        "The equation you should use for converting from Fahrenheit to Celsius is the following:\n",
        "\n",
        "degrees_celsius = (degrees_fahrenheit - 32) * 5.0/9.0\n",
        "\n",
        "(Note. The .0 after the 5 and 9 matters in the line above!!!)\n",
        "\n",
        "Here's a sample run of the program (user input is in bold italics):\n",
        "\n",
        "Enter temperature in Fahrenheit: 76\n",
        "\n",
        "Temperature: 76.0F = 24.444444444444443C"
      ],
      "metadata": {
        "id": "rhaCCCW1X3Sa"
      }
    },
    {
      "cell_type": "code",
      "source": [
        "def main(temp_far:float):\n",
        "  temp_in_cels = (temp_far-32)*5.0/9.0\n",
        "  print(f\"Temperatur: {temp_far}F = {temp_in_cels:.6f}C\")\n",
        "\n",
        "\n",
        "if __name__ == '__main__':\n",
        "  main(float(input(\"Enter temperature in Fahrenheit: \")))"
      ],
      "metadata": {
        "colab": {
          "base_uri": "https://localhost:8080/"
        },
        "id": "DxAiyIALX_EN",
        "outputId": "a3402f4b-15a4-4e82-f3bc-fe3c49e4e828"
      },
      "execution_count": 26,
      "outputs": [
        {
          "output_type": "stream",
          "name": "stdout",
          "text": [
            "Enter temperature in Fahrenheit: 76\n",
            "Temperatur: 76.0F = 24.444444C\n"
          ]
        }
      ]
    },
    {
      "cell_type": "markdown",
      "source": [
        "## 04_how_old_are_they"
      ],
      "metadata": {
        "id": "bZEWt-Lua6yM"
      }
    },
    {
      "cell_type": "markdown",
      "source": [
        "Write a program to solve this age-related riddle!\n",
        "\n",
        "Anton, Beth, Chen, Drew, and Ethan are all friends. Their ages are as follows:\n",
        "\n",
        "Anton is 21 years old.\n",
        "\n",
        "Beth is 6 years older than Anton.\n",
        "\n",
        "Chen is 20 years older than Beth.\n",
        "\n",
        "Drew is as old as Chen's age plus Anton's age.\n",
        "\n",
        "Ethan is the same age as Chen.\n",
        "\n",
        "Your code should store each person's age to a variable and print their names and ages at the end. The autograder is sensitive to capitalization and punctuation, be careful! Your solution should look like this (the below numbers are made up -- your solution should have the correct values!):\n",
        "\n",
        "Anton is 3\n",
        "\n",
        "Beth is 4\n",
        "\n",
        "Chen is 5\n",
        "\n",
        "Drew is 6\n",
        "\n",
        "Ethan is 7"
      ],
      "metadata": {
        "id": "bsSZtGw9bH9c"
      }
    },
    {
      "cell_type": "code",
      "source": [
        "def main():\n",
        "  Anton_age : int = 21\n",
        "  Beth_age : int= Anton_age + 6\n",
        "  Chen_age : int = Beth_age + 20\n",
        "  Drew_age : int = Chen_age + Anton_age\n",
        "  Ethan_age : int = Chen_age\n",
        "\n",
        "  print(f\"Anton is {Anton_age}\")\n",
        "  print(f\"Beth is {Beth_age}\")\n",
        "  print(f\"Chen is {Chen_age}\")\n",
        "  print(f\"Drew is {Drew_age}\")\n",
        "  print(f\"Ethan is {Ethan_age}\")\n",
        "\n",
        "if __name__ == '__main__':\n",
        "    main()\n"
      ],
      "metadata": {
        "colab": {
          "base_uri": "https://localhost:8080/"
        },
        "id": "_p20_V4SbwaF",
        "outputId": "c1816022-8e3a-4bbe-811c-44e9a4982f36"
      },
      "execution_count": 36,
      "outputs": [
        {
          "output_type": "stream",
          "name": "stdout",
          "text": [
            "Anton is 21\n",
            "Beth is 27\n",
            "Chen is 47\n",
            "Drew is 68\n",
            "Ethan is 47\n"
          ]
        }
      ]
    },
    {
      "cell_type": "markdown",
      "source": [
        "## 05_triangle_perimeter"
      ],
      "metadata": {
        "id": "ZMpjzC6Td9hY"
      }
    },
    {
      "cell_type": "markdown",
      "source": [
        "Prompt the user to enter the lengths of each side of a triangle and then calculate and print the perimeter of the triangle (the sum of all of the side lengths).\n",
        "\n",
        "Here's a sample run of the program (user input is in bold italics):\n",
        "\n",
        "What is the length of side 1? 3\n",
        "\n",
        "What is the length of side 2? 4\n",
        "\n",
        "What is the length of side 3? 5.5\n",
        "\n",
        "The perimeter of the triangle is 12.5"
      ],
      "metadata": {
        "id": "QhsNCv2xeHfZ"
      }
    },
    {
      "cell_type": "code",
      "source": [
        "def main()-> None:\n",
        "  side1: float = float(input(\"What is the length of side 1? \"))\n",
        "  side2:float = float(input(\"What is the length of side 2? \"))\n",
        "  side3: float = float(input(\"What is the length of side 3? \"))\n",
        "  perimeter: float = side1 + side2 + side3\n",
        "  print(\"The perimeter of the triangle is \",perimeter)\n",
        "\n",
        "\n",
        "if __name__ == '__main__':\n",
        "  main()"
      ],
      "metadata": {
        "colab": {
          "base_uri": "https://localhost:8080/"
        },
        "id": "7GUiQNgaeIe2",
        "outputId": "f1b6dd89-0e63-43dc-d9a1-5d794d46e2c8"
      },
      "execution_count": 45,
      "outputs": [
        {
          "output_type": "stream",
          "name": "stdout",
          "text": [
            "What is the length of side 1? 3\n",
            "What is the length of side 2? 4\n",
            "What is the length of side 3? 5.5\n",
            "The perimeter of the triangle is  12.5\n"
          ]
        }
      ]
    },
    {
      "cell_type": "markdown",
      "source": [
        "## 06_square_number"
      ],
      "metadata": {
        "id": "Npgc2-cFgbb4"
      }
    },
    {
      "cell_type": "markdown",
      "source": [
        "Ask the user for a number and print its square (the product of the number times itself).\n",
        "\n",
        "Here's a sample run of the program (user input is in bold italics):\n",
        "\n",
        "Type a number to see its square: 4\n",
        "\n",
        "4.0 squared is 16.0"
      ],
      "metadata": {
        "id": "RH84DFj0ggj4"
      }
    },
    {
      "cell_type": "code",
      "source": [
        "def main():\n",
        "  user_input : float = float(input(\"Type a number to see its square: \"))\n",
        "  square : float = user_input ** 2\n",
        "  print(f\"{user_input:.1f} squared is {square:.1f}\" )\n",
        "\n",
        "if __name__ == '__main__':\n",
        "  main()"
      ],
      "metadata": {
        "colab": {
          "base_uri": "https://localhost:8080/"
        },
        "id": "h-tPld5UghY1",
        "outputId": "a916d3f4-9d27-4573-8eb9-5cb7dc2ac11c"
      },
      "execution_count": 60,
      "outputs": [
        {
          "output_type": "stream",
          "name": "stdout",
          "text": [
            "Type a number to see its square: 4.4\n",
            "4.4 squared is 19.4\n"
          ]
        }
      ]
    }
  ]
}